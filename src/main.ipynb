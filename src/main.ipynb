{
 "cells": [
  {
   "cell_type": "code",
   "execution_count": 1,
   "metadata": {},
   "outputs": [],
   "source": [
    "from lib import *"
   ]
  },
  {
   "cell_type": "markdown",
   "metadata": {},
   "source": [
    "# Linear"
   ]
  },
  {
   "cell_type": "code",
   "execution_count": 2,
   "metadata": {},
   "outputs": [],
   "source": [
    "parser = Parser(\"../test_case/linear.json\")"
   ]
  },
  {
   "cell_type": "code",
   "execution_count": 3,
   "metadata": {},
   "outputs": [],
   "source": [
    "model = Model(\"model_test\",ANN(parser.getInputSize(),parser.getOutputSize()))"
   ]
  },
  {
   "cell_type": "code",
   "execution_count": 4,
   "metadata": {},
   "outputs": [],
   "source": [
    "parser.addAllLayers(model)"
   ]
  },
  {
   "cell_type": "code",
   "execution_count": 5,
   "metadata": {},
   "outputs": [
    {
     "name": "stdout",
     "output_type": "stream",
     "text": [
      "Summary for Model: model_test\n",
      "=====================================\n",
      "Layer: hidden1 | Type: hidden | Output shape: 1\n",
      "Weights:\n",
      " [[1.]\n",
      " [3.]]\n",
      "_____________________________________\n",
      "=====================================\n"
     ]
    }
   ],
   "source": [
    "model.summary()"
   ]
  },
  {
   "cell_type": "code",
   "execution_count": 6,
   "metadata": {},
   "outputs": [],
   "source": [
    "model.save(\"../saved_model/linear.pkl\")"
   ]
  },
  {
   "cell_type": "code",
   "execution_count": 7,
   "metadata": {},
   "outputs": [
    {
     "name": "stdout",
     "output_type": "stream",
     "text": [
      "[[-4.]\n",
      " [-3.]\n",
      " [-2.]\n",
      " [-1.]\n",
      " [ 0.]\n",
      " [ 1.]\n",
      " [ 2.]\n",
      " [ 3.]\n",
      " [ 4.]\n",
      " [ 5.]]\n",
      "=====================================\n",
      "[[-11.]\n",
      " [ -8.]\n",
      " [ -5.]\n",
      " [ -2.]\n",
      " [  1.]\n",
      " [  4.]\n",
      " [  7.]\n",
      " [ 10.]\n",
      " [ 13.]\n",
      " [ 16.]]\n"
     ]
    },
    {
     "data": {
      "text/plain": [
       "array([[-11.],\n",
       "       [ -8.],\n",
       "       [ -5.],\n",
       "       [ -2.],\n",
       "       [  1.],\n",
       "       [  4.],\n",
       "       [  7.],\n",
       "       [ 10.],\n",
       "       [ 13.],\n",
       "       [ 16.]])"
      ]
     },
     "execution_count": 7,
     "metadata": {},
     "output_type": "execute_result"
    }
   ],
   "source": [
    "model.predict(parser.input)"
   ]
  },
  {
   "cell_type": "code",
   "execution_count": 8,
   "metadata": {},
   "outputs": [
    {
     "name": "stdout",
     "output_type": "stream",
     "text": [
      "[[-4.]\n",
      " [-3.]\n",
      " [-2.]\n",
      " [-1.]\n",
      " [ 0.]\n",
      " [ 1.]\n",
      " [ 2.]\n",
      " [ 3.]\n",
      " [ 4.]\n",
      " [ 5.]]\n",
      "=====================================\n",
      "[[-11.]\n",
      " [ -8.]\n",
      " [ -5.]\n",
      " [ -2.]\n",
      " [  1.]\n",
      " [  4.]\n",
      " [  7.]\n",
      " [ 10.]\n",
      " [ 13.]\n",
      " [ 16.]]\n",
      "sum of error:  0.0\n",
      "[[-4.]\n",
      " [-3.]\n",
      " [-2.]\n",
      " [-1.]\n",
      " [ 0.]\n",
      " [ 1.]\n",
      " [ 2.]\n",
      " [ 3.]\n",
      " [ 4.]\n",
      " [ 5.]]\n",
      "=====================================\n",
      "[[-11.]\n",
      " [ -8.]\n",
      " [ -5.]\n",
      " [ -2.]\n",
      " [  1.]\n",
      " [  4.]\n",
      " [  7.]\n",
      " [ 10.]\n",
      " [ 13.]\n",
      " [ 16.]]\n",
      "is it correct?  True\n"
     ]
    }
   ],
   "source": [
    "print(\"sum of error: \",parser.getSse(model.predict(parser.input)))\n",
    "print(\"is it correct? \", parser.isCorrect(model.predict(parser.input)))"
   ]
  },
  {
   "cell_type": "markdown",
   "metadata": {},
   "source": [
    "# Multilayer Softmax"
   ]
  },
  {
   "cell_type": "code",
   "execution_count": 9,
   "metadata": {},
   "outputs": [],
   "source": [
    "parser1 = Parser(\"../test_case/multilayer_softmax.json\")"
   ]
  },
  {
   "cell_type": "code",
   "execution_count": 10,
   "metadata": {},
   "outputs": [],
   "source": [
    "model1 = Model(\"model_test1\",ANN(parser1.getInputSize(),parser1.getOutputSize()))"
   ]
  },
  {
   "cell_type": "code",
   "execution_count": 11,
   "metadata": {},
   "outputs": [],
   "source": [
    "parser1.addAllLayers(model1)"
   ]
  },
  {
   "cell_type": "code",
   "execution_count": 12,
   "metadata": {},
   "outputs": [
    {
     "name": "stdout",
     "output_type": "stream",
     "text": [
      "Summary for Model: model_test1\n",
      "=====================================\n",
      "Layer: hidden1 | Type: hidden | Output shape: 4\n",
      "Weights:\n",
      " [[-0.9  1.2 -0.6  0.3]\n",
      " [ 0.8 -0.7  1.1 -1.2]\n",
      " [ 0.3 -1.4  0.7  1.2]\n",
      " [ 1.1 -1.3  0.9  0.4]\n",
      " [ 0.5 -0.8  1.4 -0.9]]\n",
      "_____________________________________\n",
      "Layer: hidden2 | Type: hidden | Output shape: 4\n",
      "Weights:\n",
      " [[ 0.7 -1.1  0.2 -1.4]\n",
      " [ 1.3 -0.6  0.5 -1.3]\n",
      " [-1.2  0.9  1.4 -0.7]\n",
      " [ 0.6 -0.5  1.2 -1.1]\n",
      " [ 1.  -0.4  0.8 -1. ]]\n",
      "_____________________________________\n",
      "Layer: hidden3 | Type: hidden | Output shape: 4\n",
      "Weights:\n",
      " [[-1.3  0.7 -0.8  1.3]\n",
      " [ 0.2 -1.   1.1 -0.6]\n",
      " [ 1.4 -0.9  0.3 -1.4]\n",
      " [-0.7  1.2 -1.1  0.5]\n",
      " [ 0.9 -0.7  1.3 -0.8]]\n",
      "_____________________________________\n",
      "Layer: output1 | Type: output | Output shape: 2\n",
      "Weights:\n",
      " [[ 0.4 -1.1]\n",
      " [-1.4  0.3]\n",
      " [ 0.8  1.2]\n",
      " [ 0.1 -1.2]\n",
      " [ 1.2  1.4]]\n",
      "=====================================\n"
     ]
    }
   ],
   "source": [
    "model1.summary()"
   ]
  },
  {
   "cell_type": "code",
   "execution_count": 13,
   "metadata": {},
   "outputs": [
    {
     "name": "stdout",
     "output_type": "stream",
     "text": [
      "[[ 0.1 -0.8  1.   1.2]]\n",
      "=====================================\n",
      "[[0.64 0.   1.53 0.  ]]\n",
      "[[0.64 0.   1.53 0.  ]]\n",
      "=====================================\n",
      "[[2.45  0.    2.356 0.   ]]\n",
      "[[2.45  0.    2.356 0.   ]]\n",
      "=====================================\n",
      "[[0.     1.0772 0.     1.008 ]]\n",
      "[[0.     1.0772 0.     1.008 ]]\n",
      "=====================================\n",
      "[[2.47136 1.60384]]\n",
      "[[1.         0.41999184]]\n",
      "[[1.41999184]]\n",
      "[[0.7042294 0.2957706]]\n",
      "[[0.7042294 0.2957706]]\n",
      "sum of squared error:  1.942281739821482e-19\n",
      "is correct?  True\n"
     ]
    }
   ],
   "source": [
    "prediction = model1.predict(parser1.input)\n",
    "print(prediction)\n",
    "#print sse\n",
    "print(\"sum of squared error: \",parser1.getSse(prediction))\n",
    "print(\"is correct? \" ,parser1.isCorrect(prediction))"
   ]
  },
  {
   "cell_type": "markdown",
   "metadata": {},
   "source": [
    "# Multilayer"
   ]
  },
  {
   "cell_type": "code",
   "execution_count": 14,
   "metadata": {},
   "outputs": [],
   "source": [
    "parser2 = Parser(\"../test_case/multilayer.json\")"
   ]
  },
  {
   "cell_type": "code",
   "execution_count": 15,
   "metadata": {},
   "outputs": [],
   "source": [
    "model2 = Model(\"model_test2\",ANN(parser2.getInputSize(),parser2.getOutputSize()))"
   ]
  },
  {
   "cell_type": "code",
   "execution_count": 16,
   "metadata": {},
   "outputs": [
    {
     "name": "stdout",
     "output_type": "stream",
     "text": [
      "Summary for Model: model_test2\n",
      "=====================================\n",
      "Layer: hidden1 | Type: hidden | Output shape: 4\n",
      "Weights:\n",
      " [[ 0.1  0.2  0.3 -1.2]\n",
      " [-0.5  0.6  0.7  0.5]\n",
      " [ 0.9  1.  -1.1 -1. ]\n",
      " [ 1.3  1.4  1.5  0.1]]\n",
      "_____________________________________\n",
      "Layer: hidden2 | Type: hidden | Output shape: 3\n",
      "Weights:\n",
      " [[ 0.1  0.1  0.3]\n",
      " [-0.4  0.5  0.6]\n",
      " [ 0.7  0.4 -0.9]\n",
      " [ 0.2  0.3  0.4]\n",
      " [-0.1  0.2  0.1]]\n",
      "_____________________________________\n",
      "Layer: hidden3 | Type: hidden | Output shape: 2\n",
      "Weights:\n",
      " [[ 0.1  0.2]\n",
      " [-0.3  0.4]\n",
      " [ 0.6  0.1]\n",
      " [ 0.1 -0.4]]\n",
      "_____________________________________\n",
      "Layer: output1 | Type: output | Output shape: 1\n",
      "Weights:\n",
      " [[ 0.1]\n",
      " [-0.2]\n",
      " [ 0.3]]\n",
      "=====================================\n"
     ]
    }
   ],
   "source": [
    "parser2.addAllLayers(model2)\n",
    "model2.summary()"
   ]
  },
  {
   "cell_type": "code",
   "execution_count": 17,
   "metadata": {},
   "outputs": [
    {
     "name": "stdout",
     "output_type": "stream",
     "text": [
      "[[-1.   0.5  0.8]]\n",
      "=====================================\n",
      "[[2.09 1.22 0.25 0.  ]]\n",
      "[[2.09 1.22 0.25 0.  ]]\n",
      "=====================================\n",
      "[[0.168 1.708 0.556]]\n",
      "[[0.168 1.708 0.556]]\n",
      "=====================================\n",
      "[[1.13   0.2156]]\n",
      "[[1.13   0.2156]]\n",
      "=====================================\n",
      "[[0.4846748]]\n",
      "[[0.4846748]]\n",
      "sum of squared error:  3.1555532735024718e-18\n",
      "is correct?  True\n"
     ]
    }
   ],
   "source": [
    "#predict and evaluate\n",
    "prediction = model2.predict(parser2.input)\n",
    "print(prediction)\n",
    "print(\"sum of squared error: \",parser2.getSse(prediction))\n",
    "print(\"is correct? \" ,parser2.isCorrect(prediction))"
   ]
  },
  {
   "cell_type": "markdown",
   "metadata": {},
   "source": [
    "# ReLU"
   ]
  },
  {
   "cell_type": "code",
   "execution_count": 18,
   "metadata": {},
   "outputs": [],
   "source": [
    "parser3 = Parser(\"../test_case/relu.json\")"
   ]
  },
  {
   "cell_type": "code",
   "execution_count": 19,
   "metadata": {},
   "outputs": [
    {
     "name": "stdout",
     "output_type": "stream",
     "text": [
      "Summary for Model: model_test3\n",
      "=====================================\n",
      "Layer: hidden1 | Type: hidden | Output shape: 3\n",
      "Weights:\n",
      " [[ 0.1  0.2  0.3]\n",
      " [ 0.4 -0.5  0.6]\n",
      " [ 0.7  0.8 -0.9]]\n",
      "_____________________________________\n",
      "=====================================\n"
     ]
    }
   ],
   "source": [
    "#add layers and summary\n",
    "model3 = Model(\"model_test3\",ANN(parser3.getInputSize(),parser3.getOutputSize()))\n",
    "parser3.addAllLayers(model3)\n",
    "model3.summary()"
   ]
  },
  {
   "cell_type": "code",
   "execution_count": 20,
   "metadata": {},
   "outputs": [
    {
     "name": "stdout",
     "output_type": "stream",
     "text": [
      "[[-1.   0.5]]\n",
      "=====================================\n",
      "[[0.05 1.1  0.  ]]\n",
      "[[0.05 1.1  0.  ]]\n",
      "sum of squared error:  4.8148248609680896e-33\n",
      "is correct?  True\n"
     ]
    }
   ],
   "source": [
    "#predict and evaluate\n",
    "prediction = model3.predict(parser3.input)\n",
    "print(prediction)\n",
    "print(\"sum of squared error: \",parser3.getSse(prediction))\n",
    "print(\"is correct? \" ,parser3.isCorrect(prediction))"
   ]
  },
  {
   "cell_type": "markdown",
   "metadata": {},
   "source": [
    "# Sigmoid"
   ]
  },
  {
   "cell_type": "code",
   "execution_count": 21,
   "metadata": {},
   "outputs": [],
   "source": [
    "parser4 = Parser(\"../test_case/sigmoid.json\")"
   ]
  },
  {
   "cell_type": "code",
   "execution_count": 22,
   "metadata": {},
   "outputs": [
    {
     "name": "stdout",
     "output_type": "stream",
     "text": [
      "Summary for Model: model_test4\n",
      "=====================================\n",
      "Layer: hidden1 | Type: hidden | Output shape: 2\n",
      "Weights:\n",
      " [[ 0.6 -1.2]\n",
      " [-1.2 -1.7]\n",
      " [ 1.4 -1.6]\n",
      " [-0.7  1.1]]\n",
      "_____________________________________\n",
      "Layer: output1 | Type: output | Output shape: 4\n",
      "Weights:\n",
      " [[-0.4  1.6  1.6 -1.5]\n",
      " [-0.   0.  -1.5  0.7]\n",
      " [ 2.1 -0.2  0.   1.8]]\n",
      "=====================================\n"
     ]
    }
   ],
   "source": [
    "model4 = Model(\"model_test4\",ANN(parser4.getInputSize(),parser4.getOutputSize()))\n",
    "parser4.addAllLayers(model4)\n",
    "model4.summary()"
   ]
  },
  {
   "cell_type": "code",
   "execution_count": 23,
   "metadata": {},
   "outputs": [
    {
     "name": "stdout",
     "output_type": "stream",
     "text": [
      "[[-0.6  1.6 -1. ]\n",
      " [-1.4  0.9  1.5]\n",
      " [ 0.2 -1.3 -1. ]\n",
      " [-0.9 -0.7 -1.2]\n",
      " [ 0.4  0.1  0.2]]\n",
      "=====================================\n",
      "[[0.98607436 0.02104135]\n",
      " [0.9234378  0.80059224]\n",
      " [0.31864627 0.36354746]\n",
      " [0.82346473 0.53245431]\n",
      " [0.52996405 0.13943387]]\n",
      "[[0.98607436 0.02104135]\n",
      " [0.9234378  0.80059224]\n",
      " [0.31864627 0.36354746]\n",
      " [0.82346473 0.53245431]\n",
      " [0.52996405 0.13943387]]\n",
      "=====================================\n",
      "[[0.41197346 0.8314294  0.53018536 0.31607396]\n",
      " [0.78266141 0.80843631 0.55350518 0.64278501]\n",
      " [0.58987524 0.82160954 0.75436518 0.34919895]\n",
      " [0.6722004  0.81660439 0.59020258 0.50870988]\n",
      " [0.47322841 0.82808466 0.69105452 0.29358323]]\n",
      "[[0.41197346 0.8314294  0.53018536 0.31607396]\n",
      " [0.78266141 0.80843631 0.55350518 0.64278501]\n",
      " [0.58987524 0.82160954 0.75436518 0.34919895]\n",
      " [0.6722004  0.81660439 0.59020258 0.50870988]\n",
      " [0.47322841 0.82808466 0.69105452 0.29358323]]\n",
      "sum of squared error:  2.1756063274232822e-16\n",
      "is correct?  True\n"
     ]
    }
   ],
   "source": [
    "prediction = model4.predict(parser4.input)\n",
    "print(prediction)\n",
    "print(\"sum of squared error: \",parser4.getSse(prediction))\n",
    "print(\"is correct? \" ,parser4.isCorrect(prediction))"
   ]
  },
  {
   "cell_type": "markdown",
   "metadata": {},
   "source": [
    "# Softmax"
   ]
  },
  {
   "cell_type": "code",
   "execution_count": 24,
   "metadata": {},
   "outputs": [],
   "source": [
    "parser5 = Parser(\"../test_case/softmax.json\")"
   ]
  },
  {
   "cell_type": "code",
   "execution_count": 25,
   "metadata": {},
   "outputs": [
    {
     "name": "stdout",
     "output_type": "stream",
     "text": [
      "Summary for Model: model_test5\n",
      "=====================================\n",
      "Layer: hidden1 | Type: hidden | Output shape: 3\n",
      "Weights:\n",
      " [[ 0.1  0.9 -0.1]\n",
      " [-0.2  0.8  0.2]\n",
      " [ 0.3 -0.7  0.3]\n",
      " [ 0.4  0.6 -0.4]\n",
      " [ 0.5  0.5  0.5]\n",
      " [-0.6  0.4  0.6]\n",
      " [-0.7 -0.3  0.7]\n",
      " [ 0.8  0.2 -0.8]\n",
      " [ 0.9 -0.1  0. ]]\n",
      "_____________________________________\n",
      "=====================================\n"
     ]
    }
   ],
   "source": [
    "model5 = Model(\"model_test5\",ANN(parser5.getInputSize(),parser5.getOutputSize()))\n",
    "parser5.addAllLayers(model5)\n",
    "model5.summary()"
   ]
  },
  {
   "cell_type": "code",
   "execution_count": 26,
   "metadata": {},
   "outputs": [
    {
     "name": "stdout",
     "output_type": "stream",
     "text": [
      "[[-1.    1.    2.8   1.8  -0.45  0.24  0.15  0.2 ]]\n",
      "=====================================\n",
      "[[ 3.022  1.738 -0.442]]\n",
      "[[1.         0.27692737 0.03130429]]\n",
      "[[1.30823167]]\n",
      "[[0.76439061 0.21168068 0.02392871]]\n",
      "[[0.76439061 0.21168068 0.02392871]]\n",
      "sum of squared error:  1.2639167390097123e-17\n",
      "is correct?  True\n"
     ]
    }
   ],
   "source": [
    "prediction = model5.predict(parser5.input)\n",
    "print(prediction)\n",
    "print(\"sum of squared error: \",parser5.getSse(prediction))\n",
    "print(\"is correct? \" ,parser5.isCorrect(prediction))"
   ]
  },
  {
   "cell_type": "markdown",
   "metadata": {},
   "source": [
    "# Save each model"
   ]
  },
  {
   "cell_type": "code",
   "execution_count": 27,
   "metadata": {},
   "outputs": [],
   "source": [
    "model.save(\"../saved_model/linear.pkl\")\n",
    "model1.save(\"../saved_model/multilayer_softmax.pkl\")\n",
    "model2.save(\"../saved_model/multilayer.pkl\")\n",
    "model3.save(\"../saved_model/relu.pkl\")\n",
    "model4.save(\"../saved_model/sigmoid.pkl\")\n",
    "model5.save(\"../saved_model/softmax.pkl\")"
   ]
  },
  {
   "cell_type": "markdown",
   "metadata": {},
   "source": [
    "# Load each model and doing reprediciton"
   ]
  },
  {
   "cell_type": "code",
   "execution_count": 28,
   "metadata": {},
   "outputs": [
    {
     "name": "stdout",
     "output_type": "stream",
     "text": [
      "Summary for Model: model_test\n",
      "=====================================\n",
      "Layer: hidden1 | Type: hidden | Output shape: 1\n",
      "Weights:\n",
      " [[1.]\n",
      " [3.]]\n",
      "_____________________________________\n",
      "=====================================\n"
     ]
    }
   ],
   "source": [
    "another_model = Model.load(\"../saved_model/linear.pkl\")\n",
    "another_model.summary()"
   ]
  },
  {
   "cell_type": "code",
   "execution_count": 29,
   "metadata": {},
   "outputs": [
    {
     "name": "stdout",
     "output_type": "stream",
     "text": [
      "[[-4.]\n",
      " [-3.]\n",
      " [-2.]\n",
      " [-1.]\n",
      " [ 0.]\n",
      " [ 1.]\n",
      " [ 2.]\n",
      " [ 3.]\n",
      " [ 4.]\n",
      " [ 5.]]\n",
      "=====================================\n",
      "[[-11.]\n",
      " [ -8.]\n",
      " [ -5.]\n",
      " [ -2.]\n",
      " [  1.]\n",
      " [  4.]\n",
      " [  7.]\n",
      " [ 10.]\n",
      " [ 13.]\n",
      " [ 16.]]\n"
     ]
    },
    {
     "data": {
      "text/plain": [
       "array([[-11.],\n",
       "       [ -8.],\n",
       "       [ -5.],\n",
       "       [ -2.],\n",
       "       [  1.],\n",
       "       [  4.],\n",
       "       [  7.],\n",
       "       [ 10.],\n",
       "       [ 13.],\n",
       "       [ 16.]])"
      ]
     },
     "execution_count": 29,
     "metadata": {},
     "output_type": "execute_result"
    }
   ],
   "source": [
    "#try to repredict\n",
    "another_model.predict(parser.input)"
   ]
  },
  {
   "cell_type": "code",
   "execution_count": 30,
   "metadata": {},
   "outputs": [
    {
     "name": "stdout",
     "output_type": "stream",
     "text": [
      "Summary for Model: model_test1\n",
      "=====================================\n",
      "Layer: hidden1 | Type: hidden | Output shape: 4\n",
      "Weights:\n",
      " [[-0.9  1.2 -0.6  0.3]\n",
      " [ 0.8 -0.7  1.1 -1.2]\n",
      " [ 0.3 -1.4  0.7  1.2]\n",
      " [ 1.1 -1.3  0.9  0.4]\n",
      " [ 0.5 -0.8  1.4 -0.9]]\n",
      "_____________________________________\n",
      "Layer: hidden2 | Type: hidden | Output shape: 4\n",
      "Weights:\n",
      " [[ 0.7 -1.1  0.2 -1.4]\n",
      " [ 1.3 -0.6  0.5 -1.3]\n",
      " [-1.2  0.9  1.4 -0.7]\n",
      " [ 0.6 -0.5  1.2 -1.1]\n",
      " [ 1.  -0.4  0.8 -1. ]]\n",
      "_____________________________________\n",
      "Layer: hidden3 | Type: hidden | Output shape: 4\n",
      "Weights:\n",
      " [[-1.3  0.7 -0.8  1.3]\n",
      " [ 0.2 -1.   1.1 -0.6]\n",
      " [ 1.4 -0.9  0.3 -1.4]\n",
      " [-0.7  1.2 -1.1  0.5]\n",
      " [ 0.9 -0.7  1.3 -0.8]]\n",
      "_____________________________________\n",
      "Layer: output1 | Type: output | Output shape: 2\n",
      "Weights:\n",
      " [[ 0.4 -1.1]\n",
      " [-1.4  0.3]\n",
      " [ 0.8  1.2]\n",
      " [ 0.1 -1.2]\n",
      " [ 1.2  1.4]]\n",
      "=====================================\n",
      "Summary for Model: model_test2\n",
      "=====================================\n",
      "Layer: hidden1 | Type: hidden | Output shape: 4\n",
      "Weights:\n",
      " [[ 0.1  0.2  0.3 -1.2]\n",
      " [-0.5  0.6  0.7  0.5]\n",
      " [ 0.9  1.  -1.1 -1. ]\n",
      " [ 1.3  1.4  1.5  0.1]]\n",
      "_____________________________________\n",
      "Layer: hidden2 | Type: hidden | Output shape: 3\n",
      "Weights:\n",
      " [[ 0.1  0.1  0.3]\n",
      " [-0.4  0.5  0.6]\n",
      " [ 0.7  0.4 -0.9]\n",
      " [ 0.2  0.3  0.4]\n",
      " [-0.1  0.2  0.1]]\n",
      "_____________________________________\n",
      "Layer: hidden3 | Type: hidden | Output shape: 2\n",
      "Weights:\n",
      " [[ 0.1  0.2]\n",
      " [-0.3  0.4]\n",
      " [ 0.6  0.1]\n",
      " [ 0.1 -0.4]]\n",
      "_____________________________________\n",
      "Layer: output1 | Type: output | Output shape: 1\n",
      "Weights:\n",
      " [[ 0.1]\n",
      " [-0.2]\n",
      " [ 0.3]]\n",
      "=====================================\n",
      "Summary for Model: model_test3\n",
      "=====================================\n",
      "Layer: hidden1 | Type: hidden | Output shape: 3\n",
      "Weights:\n",
      " [[ 0.1  0.2  0.3]\n",
      " [ 0.4 -0.5  0.6]\n",
      " [ 0.7  0.8 -0.9]]\n",
      "_____________________________________\n",
      "=====================================\n",
      "Summary for Model: model_test4\n",
      "=====================================\n",
      "Layer: hidden1 | Type: hidden | Output shape: 2\n",
      "Weights:\n",
      " [[ 0.6 -1.2]\n",
      " [-1.2 -1.7]\n",
      " [ 1.4 -1.6]\n",
      " [-0.7  1.1]]\n",
      "_____________________________________\n",
      "Layer: output1 | Type: output | Output shape: 4\n",
      "Weights:\n",
      " [[-0.4  1.6  1.6 -1.5]\n",
      " [-0.   0.  -1.5  0.7]\n",
      " [ 2.1 -0.2  0.   1.8]]\n",
      "=====================================\n",
      "Summary for Model: model_test5\n",
      "=====================================\n",
      "Layer: hidden1 | Type: hidden | Output shape: 3\n",
      "Weights:\n",
      " [[ 0.1  0.9 -0.1]\n",
      " [-0.2  0.8  0.2]\n",
      " [ 0.3 -0.7  0.3]\n",
      " [ 0.4  0.6 -0.4]\n",
      " [ 0.5  0.5  0.5]\n",
      " [-0.6  0.4  0.6]\n",
      " [-0.7 -0.3  0.7]\n",
      " [ 0.8  0.2 -0.8]\n",
      " [ 0.9 -0.1  0. ]]\n",
      "_____________________________________\n",
      "=====================================\n"
     ]
    }
   ],
   "source": [
    "#load others 5 models\n",
    "another_model1 = Model.load(\"../saved_model/multilayer_softmax.pkl\")\n",
    "another_model1.summary()\n",
    "another_model2 = Model.load(\"../saved_model/multilayer.pkl\")\n",
    "another_model2.summary()\n",
    "another_model3 = Model.load(\"../saved_model/relu.pkl\")\n",
    "another_model3.summary()\n",
    "another_model4 = Model.load(\"../saved_model/sigmoid.pkl\")\n",
    "another_model4.summary()\n",
    "another_model5 = Model.load(\"../saved_model/softmax.pkl\")\n",
    "another_model5.summary()"
   ]
  }
 ],
 "metadata": {
  "kernelspec": {
   "display_name": "pollux",
   "language": "python",
   "name": "python3"
  },
  "language_info": {
   "codemirror_mode": {
    "name": "ipython",
    "version": 3
   },
   "file_extension": ".py",
   "mimetype": "text/x-python",
   "name": "python",
   "nbconvert_exporter": "python",
   "pygments_lexer": "ipython3",
   "version": "3.10.11"
  }
 },
 "nbformat": 4,
 "nbformat_minor": 2
}
