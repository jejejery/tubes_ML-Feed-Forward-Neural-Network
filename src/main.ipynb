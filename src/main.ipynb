{
 "cells": [
  {
   "cell_type": "code",
   "execution_count": 3,
   "metadata": {},
   "outputs": [],
   "source": [
    "from lib import *"
   ]
  },
  {
   "cell_type": "markdown",
   "metadata": {},
   "source": [
    "# Linear"
   ]
  },
  {
   "cell_type": "code",
   "execution_count": 5,
   "metadata": {},
   "outputs": [],
   "source": [
    "parser = Parser(\"../test_case/A/linear.json\")"
   ]
  },
  {
   "cell_type": "code",
   "execution_count": 6,
   "metadata": {},
   "outputs": [],
   "source": [
    "model = Model(\"model_test\",ANN(parser.getInputSize(),parser.getOutputSize()))"
   ]
  },
  {
   "cell_type": "code",
   "execution_count": 7,
   "metadata": {},
   "outputs": [],
   "source": [
    "parser.addAllLayers(model)"
   ]
  },
  {
   "cell_type": "code",
   "execution_count": 8,
   "metadata": {},
   "outputs": [
    {
     "name": "stdout",
     "output_type": "stream",
     "text": [
      "Summary for Model: model_test\n",
      "=====================================\n",
      "Layer: output1 | Type: output | Output shape: 1 | Activation function: linear\n",
      "Weights:\n",
      " [[1.]\n",
      " [3.]]\n",
      "=====================================\n"
     ]
    }
   ],
   "source": [
    "model.summary()"
   ]
  },
  {
   "cell_type": "code",
   "execution_count": 9,
   "metadata": {},
   "outputs": [],
   "source": [
    "model.save(\"../saved_model/linear.pkl\")"
   ]
  },
  {
   "cell_type": "code",
   "execution_count": 10,
   "metadata": {},
   "outputs": [
    {
     "data": {
      "text/plain": [
       "array([[-11.],\n",
       "       [ -8.],\n",
       "       [ -5.],\n",
       "       [ -2.],\n",
       "       [  1.],\n",
       "       [  4.],\n",
       "       [  7.],\n",
       "       [ 10.],\n",
       "       [ 13.],\n",
       "       [ 16.]])"
      ]
     },
     "execution_count": 10,
     "metadata": {},
     "output_type": "execute_result"
    }
   ],
   "source": [
    "model.predict(parser.input)"
   ]
  },
  {
   "cell_type": "code",
   "execution_count": 11,
   "metadata": {},
   "outputs": [
    {
     "name": "stdout",
     "output_type": "stream",
     "text": [
      "sum of error:  0.0\n",
      "is it correct?  True\n"
     ]
    }
   ],
   "source": [
    "print(\"sum of error: \",parser.getSse(model.predict(parser.input)))\n",
    "print(\"is it correct? \", parser.isCorrect(model.predict(parser.input)))"
   ]
  },
  {
   "cell_type": "markdown",
   "metadata": {},
   "source": [
    "# Multilayer Softmax"
   ]
  },
  {
   "cell_type": "code",
   "execution_count": 13,
   "metadata": {},
   "outputs": [],
   "source": [
    "parser1 = Parser(\"../test_case/A/multilayer_softmax.json\")"
   ]
  },
  {
   "cell_type": "code",
   "execution_count": 14,
   "metadata": {},
   "outputs": [],
   "source": [
    "model1 = Model(\"model_test1\",ANN(parser1.getInputSize(),parser1.getOutputSize()))"
   ]
  },
  {
   "cell_type": "code",
   "execution_count": 15,
   "metadata": {},
   "outputs": [],
   "source": [
    "parser1.addAllLayers(model1)"
   ]
  },
  {
   "cell_type": "code",
   "execution_count": 16,
   "metadata": {},
   "outputs": [
    {
     "name": "stdout",
     "output_type": "stream",
     "text": [
      "Summary for Model: model_test1\n",
      "=====================================\n",
      "Layer: hidden1 | Type: hidden | Output shape: 4 | Activation function: relu\n",
      "Weights:\n",
      " [[-0.9  1.2 -0.6  0.3]\n",
      " [ 0.8 -0.7  1.1 -1.2]\n",
      " [ 0.3 -1.4  0.7  1.2]\n",
      " [ 1.1 -1.3  0.9  0.4]\n",
      " [ 0.5 -0.8  1.4 -0.9]]\n",
      "_____________________________________\n",
      "Layer: hidden2 | Type: hidden | Output shape: 4 | Activation function: relu\n",
      "Weights:\n",
      " [[ 0.7 -1.1  0.2 -1.4]\n",
      " [ 1.3 -0.6  0.5 -1.3]\n",
      " [-1.2  0.9  1.4 -0.7]\n",
      " [ 0.6 -0.5  1.2 -1.1]\n",
      " [ 1.  -0.4  0.8 -1. ]]\n",
      "_____________________________________\n",
      "Layer: hidden3 | Type: hidden | Output shape: 4 | Activation function: relu\n",
      "Weights:\n",
      " [[-1.3  0.7 -0.8  1.3]\n",
      " [ 0.2 -1.   1.1 -0.6]\n",
      " [ 1.4 -0.9  0.3 -1.4]\n",
      " [-0.7  1.2 -1.1  0.5]\n",
      " [ 0.9 -0.7  1.3 -0.8]]\n",
      "_____________________________________\n",
      "Layer: output1 | Type: output | Output shape: 2 | Activation function: softmax\n",
      "Weights:\n",
      " [[ 0.4 -1.1]\n",
      " [-1.4  0.3]\n",
      " [ 0.8  1.2]\n",
      " [ 0.1 -1.2]\n",
      " [ 1.2  1.4]]\n",
      "=====================================\n"
     ]
    }
   ],
   "source": [
    "model1.summary()"
   ]
  },
  {
   "cell_type": "code",
   "execution_count": 17,
   "metadata": {},
   "outputs": [
    {
     "name": "stdout",
     "output_type": "stream",
     "text": [
      "[[0.7042294 0.2957706]]\n",
      "sum of squared error:  1.942281739821482e-19\n",
      "is correct?  True\n"
     ]
    }
   ],
   "source": [
    "prediction = model1.predict(parser1.input)\n",
    "print(prediction)\n",
    "#print sse\n",
    "print(\"sum of squared error: \",parser1.getSse(prediction))\n",
    "print(\"is correct? \" ,parser1.isCorrect(prediction))"
   ]
  },
  {
   "cell_type": "markdown",
   "metadata": {},
   "source": [
    "# Multilayer"
   ]
  },
  {
   "cell_type": "code",
   "execution_count": null,
   "metadata": {},
   "outputs": [],
   "source": [
    "parser2 = Parser(\"../test_case/A/multilayer.json\")"
   ]
  },
  {
   "cell_type": "code",
   "execution_count": null,
   "metadata": {},
   "outputs": [],
   "source": [
    "model2 = Model(\"model_test2\",ANN(parser2.getInputSize(),parser2.getOutputSize()))"
   ]
  },
  {
   "cell_type": "code",
   "execution_count": null,
   "metadata": {},
   "outputs": [],
   "source": [
    "parser2.addAllLayers(model2)\n",
    "model2.summary()"
   ]
  },
  {
   "cell_type": "code",
   "execution_count": null,
   "metadata": {},
   "outputs": [],
   "source": [
    "#predict and evaluate\n",
    "prediction = model2.predict(parser2.input)\n",
    "print(prediction)\n",
    "print(\"sum of squared error: \",parser2.getSse(prediction))\n",
    "print(\"is correct? \" ,parser2.isCorrect(prediction))"
   ]
  },
  {
   "cell_type": "markdown",
   "metadata": {},
   "source": [
    "# ReLU"
   ]
  },
  {
   "cell_type": "code",
   "execution_count": null,
   "metadata": {},
   "outputs": [],
   "source": [
    "parser3 = Parser(\"../test_case/A/relu.json\")"
   ]
  },
  {
   "cell_type": "code",
   "execution_count": null,
   "metadata": {},
   "outputs": [],
   "source": [
    "#add layers and summary\n",
    "model3 = Model(\"model_test3\",ANN(parser3.getInputSize(),parser3.getOutputSize()))\n",
    "parser3.addAllLayers(model3)\n",
    "model3.summary()"
   ]
  },
  {
   "cell_type": "code",
   "execution_count": null,
   "metadata": {},
   "outputs": [],
   "source": [
    "#predict and evaluate\n",
    "prediction = model3.predict(parser3.input)\n",
    "print(prediction)\n",
    "print(\"sum of squared error: \",parser3.getSse(prediction))\n",
    "print(\"is correct? \" ,parser3.isCorrect(prediction))"
   ]
  },
  {
   "cell_type": "markdown",
   "metadata": {},
   "source": [
    "# Sigmoid"
   ]
  },
  {
   "cell_type": "code",
   "execution_count": null,
   "metadata": {},
   "outputs": [],
   "source": [
    "parser4 = Parser(\"../test_case/A/sigmoid.json\")"
   ]
  },
  {
   "cell_type": "code",
   "execution_count": null,
   "metadata": {},
   "outputs": [],
   "source": [
    "model4 = Model(\"model_test4\",ANN(parser4.getInputSize(),parser4.getOutputSize()))\n",
    "parser4.addAllLayers(model4)\n",
    "model4.summary()"
   ]
  },
  {
   "cell_type": "code",
   "execution_count": null,
   "metadata": {},
   "outputs": [],
   "source": [
    "prediction = model4.predict(parser4.input)\n",
    "print(prediction)\n",
    "print(\"sum of squared error: \",parser4.getSse(prediction))\n",
    "print(\"is correct? \" ,parser4.isCorrect(prediction))"
   ]
  },
  {
   "cell_type": "markdown",
   "metadata": {},
   "source": [
    "# Softmax"
   ]
  },
  {
   "cell_type": "code",
   "execution_count": null,
   "metadata": {},
   "outputs": [],
   "source": [
    "parser5 = Parser(\"../test_case/A/softmax.json\")"
   ]
  },
  {
   "cell_type": "code",
   "execution_count": null,
   "metadata": {},
   "outputs": [],
   "source": [
    "model5 = Model(\"model_test5\",ANN(parser5.getInputSize(),parser5.getOutputSize()))\n",
    "parser5.addAllLayers(model5)\n",
    "model5.summary()"
   ]
  },
  {
   "cell_type": "code",
   "execution_count": null,
   "metadata": {},
   "outputs": [],
   "source": [
    "prediction = model5.predict(parser5.input)\n",
    "print(prediction)\n",
    "print(\"sum of squared error: \",parser5.getSse(prediction))\n",
    "print(\"is correct? \" ,parser5.isCorrect(prediction))"
   ]
  },
  {
   "cell_type": "markdown",
   "metadata": {},
   "source": [
    "# Save each model"
   ]
  },
  {
   "cell_type": "code",
   "execution_count": null,
   "metadata": {},
   "outputs": [],
   "source": [
    "model.save(\"../saved_model/linear.pkl\")\n",
    "model1.save(\"../saved_model/multilayer_softmax.pkl\")\n",
    "model2.save(\"../saved_model/multilayer.pkl\")\n",
    "model3.save(\"../saved_model/relu.pkl\")\n",
    "model4.save(\"../saved_model/sigmoid.pkl\")\n",
    "model5.save(\"../saved_model/softmax.pkl\")"
   ]
  },
  {
   "cell_type": "markdown",
   "metadata": {},
   "source": [
    "# Load each model and doing reprediciton"
   ]
  },
  {
   "cell_type": "code",
   "execution_count": null,
   "metadata": {},
   "outputs": [],
   "source": [
    "another_model = Model.load(\"../saved_model/linear.pkl\")\n",
    "another_model.summary()"
   ]
  },
  {
   "cell_type": "code",
   "execution_count": null,
   "metadata": {},
   "outputs": [],
   "source": [
    "#try to repredict\n",
    "another_model.predict(parser.input)"
   ]
  },
  {
   "cell_type": "code",
   "execution_count": null,
   "metadata": {},
   "outputs": [],
   "source": [
    "#load others 5 models\n",
    "another_model1 = Model.load(\"../saved_model/multilayer_softmax.pkl\")\n",
    "another_model1.summary()\n",
    "another_model2 = Model.load(\"../saved_model/multilayer.pkl\")\n",
    "another_model2.summary()\n",
    "another_model3 = Model.load(\"../saved_model/relu.pkl\")\n",
    "another_model3.summary()\n",
    "another_model4 = Model.load(\"../saved_model/sigmoid.pkl\")\n",
    "another_model4.summary()\n",
    "another_model5 = Model.load(\"../saved_model/softmax.pkl\")\n",
    "another_model5.summary()"
   ]
  }
 ],
 "metadata": {
  "kernelspec": {
   "display_name": "pollux",
   "language": "python",
   "name": "python3"
  },
  "language_info": {
   "codemirror_mode": {
    "name": "ipython",
    "version": 3
   },
   "file_extension": ".py",
   "mimetype": "text/x-python",
   "name": "python",
   "nbconvert_exporter": "python",
   "pygments_lexer": "ipython3",
   "version": "3.10.11"
  }
 },
 "nbformat": 4,
 "nbformat_minor": 2
}
