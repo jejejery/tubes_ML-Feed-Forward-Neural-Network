{
 "cells": [
  {
   "cell_type": "code",
   "execution_count": 1,
   "metadata": {},
   "outputs": [],
   "source": [
    "from lib import *"
   ]
  },
  {
   "cell_type": "code",
   "execution_count": 2,
   "metadata": {},
   "outputs": [
    {
     "name": "stdout",
     "output_type": "stream",
     "text": [
      "Summary for Model: model_test\n",
      "=====================================\n",
      "=====================================\n"
     ]
    }
   ],
   "source": [
    "the_model = Model(\"model_test\",ANN(3,1))\n",
    "the_model.summary()"
   ]
  },
  {
   "cell_type": "code",
   "execution_count": 3,
   "metadata": {},
   "outputs": [],
   "source": [
    "#perform testing of output layer\n",
    "#initialize weight for single perceptron\n",
    "import numpy as np\n",
    "w0 = np.array([\n",
    "        [0.1, 0.2, 0.3],\n",
    "        [0.4, -0.5, 0.6],\n",
    "        [0.7, 0.8, -0.9]\n",
    "      ])\n",
    "\n",
    "w1 = np.array([[-1.0,0.5],\n",
    "                [1.0,0.5],\n",
    "                [1.0,0.5], \n",
    "                [1.0,0.5]])\n"
   ]
  },
  {
   "cell_type": "code",
   "execution_count": 4,
   "metadata": {},
   "outputs": [
    {
     "name": "stdout",
     "output_type": "stream",
     "text": [
      "[[-1.   0.5]]\n"
     ]
    }
   ],
   "source": [
    "#example input:\n",
    "input_array = np.array([[-1.0, 0.5]])\n",
    "# append the first column of 1s\n",
    "print(input_array)"
   ]
  },
  {
   "cell_type": "code",
   "execution_count": 5,
   "metadata": {},
   "outputs": [],
   "source": [
    "# dummy_hidden_layer = HiddenLayer(name=\"hidden1\",input_shape=2, output_shape=3, weights=w0, activation_function=\"relu\")\n",
    "# dummy_output_layer = OutputLayer(name=\"output1\",input_shape=3, output_shape=2, weights=w1, activation_function=\"softmax\")"
   ]
  },
  {
   "cell_type": "code",
   "execution_count": 6,
   "metadata": {},
   "outputs": [
    {
     "name": "stdout",
     "output_type": "stream",
     "text": [
      "<class 'int'>\n",
      "[-1.   0.5]\n"
     ]
    }
   ],
   "source": [
    "parser = Parser(\"../test_case/relu.json\")"
   ]
  },
  {
   "cell_type": "code",
   "execution_count": 7,
   "metadata": {},
   "outputs": [],
   "source": [
    "model = Model(\"model_test\",ANN(parser.getInputSize(),parser.getOutputSize()))"
   ]
  },
  {
   "cell_type": "code",
   "execution_count": 8,
   "metadata": {},
   "outputs": [],
   "source": [
    "parser.addAllLayers(model)"
   ]
  },
  {
   "cell_type": "code",
   "execution_count": 9,
   "metadata": {},
   "outputs": [],
   "source": [
    "# model.add(dummy_hidden_layer)\n",
    "# model.add(dummy_output_layer)"
   ]
  },
  {
   "cell_type": "code",
   "execution_count": 10,
   "metadata": {},
   "outputs": [
    {
     "name": "stdout",
     "output_type": "stream",
     "text": [
      "Summary for Model: model_test\n",
      "=====================================\n",
      "Layer: hidden1 | Type: hidden | Output shape: 3\n",
      "Weights:\n",
      " [[ 0.1  0.2  0.3]\n",
      " [ 0.4 -0.5  0.6]\n",
      " [ 0.7  0.8 -0.9]]\n",
      "_____________________________________\n",
      "=====================================\n"
     ]
    }
   ],
   "source": [
    "model.summary()"
   ]
  },
  {
   "cell_type": "code",
   "execution_count": 11,
   "metadata": {},
   "outputs": [
    {
     "name": "stdout",
     "output_type": "stream",
     "text": [
      "Summary for Model: model_test\n",
      "=====================================\n",
      "Layer: hidden1 | Type: hidden | Output shape: 3\n",
      "Weights:\n",
      " [[ 0.1  0.2  0.3]\n",
      " [ 0.4 -0.5  0.6]\n",
      " [ 0.7  0.8 -0.9]]\n",
      "_____________________________________\n",
      "=====================================\n"
     ]
    }
   ],
   "source": [
    "model.save(\"oke.pkl\")"
   ]
  },
  {
   "cell_type": "code",
   "execution_count": 12,
   "metadata": {},
   "outputs": [
    {
     "data": {
      "text/plain": [
       "array([[0.05, 1.1 , 0.  ]])"
      ]
     },
     "execution_count": 12,
     "metadata": {},
     "output_type": "execute_result"
    }
   ],
   "source": [
    "model.predict(input_array)"
   ]
  },
  {
   "cell_type": "code",
   "execution_count": 13,
   "metadata": {},
   "outputs": [],
   "source": [
    "#perform another test\n",
    "model = Model(\"model_softmax\",ANN(8,3))"
   ]
  },
  {
   "cell_type": "code",
   "execution_count": 14,
   "metadata": {},
   "outputs": [],
   "source": [
    "input_array_2 = np.array([[-1.0, 1.0, 2.8, 1.8, -0.45, 0.24, 0.15, 0.2]])"
   ]
  },
  {
   "cell_type": "code",
   "execution_count": 15,
   "metadata": {},
   "outputs": [],
   "source": [
    "w3 = np.array([\n",
    "        [0.1, 0.9, -0.1],\n",
    "        [-0.2, 0.8, 0.2],\n",
    "        [0.3, -0.7, 0.3],\n",
    "        [0.4, 0.6, -0.4],\n",
    "        [0.5, 0.5, 0.5],\n",
    "        [-0.6, 0.4, 0.6],\n",
    "        [-0.7, -0.3, 0.7],\n",
    "        [0.8, 0.2, -0.8],\n",
    "        [0.9, -0.1, 0.0]\n",
    "      ])"
   ]
  },
  {
   "cell_type": "code",
   "execution_count": 16,
   "metadata": {},
   "outputs": [],
   "source": [
    "dummy_softmax_layer = OutputLayer(name=\"softmax\",input_shape=8, output_shape=3, weights=w3, activation_function=\"softmax\")"
   ]
  },
  {
   "cell_type": "code",
   "execution_count": 17,
   "metadata": {},
   "outputs": [
    {
     "name": "stdout",
     "output_type": "stream",
     "text": [
      "Summary for Model: model_softmax\n",
      "=====================================\n",
      "Layer: softmax | Type: output | Output shape: 3\n",
      "Weights:\n",
      " [[ 0.1  0.9 -0.1]\n",
      " [-0.2  0.8  0.2]\n",
      " [ 0.3 -0.7  0.3]\n",
      " [ 0.4  0.6 -0.4]\n",
      " [ 0.5  0.5  0.5]\n",
      " [-0.6  0.4  0.6]\n",
      " [-0.7 -0.3  0.7]\n",
      " [ 0.8  0.2 -0.8]\n",
      " [ 0.9 -0.1  0. ]]\n",
      "=====================================\n"
     ]
    }
   ],
   "source": [
    "model.add(dummy_softmax_layer)\n",
    "model.summary()"
   ]
  },
  {
   "cell_type": "code",
   "execution_count": 18,
   "metadata": {},
   "outputs": [
    {
     "data": {
      "text/plain": [
       "array([[0.76439061, 0.21168068, 0.02392871]])"
      ]
     },
     "execution_count": 18,
     "metadata": {},
     "output_type": "execute_result"
    }
   ],
   "source": [
    "model.predict(input_array_2)"
   ]
  },
  {
   "cell_type": "markdown",
   "metadata": {},
   "source": [
    "yah sesuai sama tc asisten, so far"
   ]
  }
 ],
 "metadata": {
  "kernelspec": {
   "display_name": "pollux",
   "language": "python",
   "name": "python3"
  },
  "language_info": {
   "codemirror_mode": {
    "name": "ipython",
    "version": 3
   },
   "file_extension": ".py",
   "mimetype": "text/x-python",
   "name": "python",
   "nbconvert_exporter": "python",
   "pygments_lexer": "ipython3",
   "version": "3.9.7"
  }
 },
 "nbformat": 4,
 "nbformat_minor": 2
}
