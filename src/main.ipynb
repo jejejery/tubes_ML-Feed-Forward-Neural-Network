{
 "cells": [
  {
   "cell_type": "code",
   "execution_count": 1,
   "metadata": {},
   "outputs": [],
   "source": [
    "from lib import *"
   ]
  },
  {
   "cell_type": "code",
   "execution_count": 2,
   "metadata": {},
   "outputs": [],
   "source": [
    "data = PreProcessing()\n",
    "data.readCSV(\"../testcase_dataset/iris.csv\")\n",
    "data.dropTarget('Species')\n",
    "X_train, X_test, y_train, y_test = data.splitTrainValid()\n",
    "X_train = data.fit_transform(X_train)\n",
    "X_test = data.transform(X_test)"
   ]
  },
  {
   "cell_type": "markdown",
   "metadata": {},
   "source": [
    "# Linear"
   ]
  },
  {
   "cell_type": "code",
   "execution_count": null,
   "metadata": {},
   "outputs": [],
   "source": [
    "parser = Parser(\"../test_case/linear.json\")"
   ]
  },
  {
   "cell_type": "code",
   "execution_count": null,
   "metadata": {},
   "outputs": [],
   "source": [
    "model = Model(\"model_test\",ANN(parser.getInputSize(),parser.getOutputSize()))"
   ]
  },
  {
   "cell_type": "code",
   "execution_count": null,
   "metadata": {},
   "outputs": [],
   "source": [
    "parser.addAllLayers(model)"
   ]
  },
  {
   "cell_type": "code",
   "execution_count": null,
   "metadata": {},
   "outputs": [],
   "source": [
    "model.summary()"
   ]
  },
  {
   "cell_type": "code",
   "execution_count": null,
   "metadata": {},
   "outputs": [],
   "source": [
    "model.save(\"../saved_model/linear.pkl\")"
   ]
  },
  {
   "cell_type": "code",
   "execution_count": null,
   "metadata": {},
   "outputs": [],
   "source": [
    "model.predict(parser.input)"
   ]
  },
  {
   "cell_type": "code",
   "execution_count": null,
   "metadata": {},
   "outputs": [],
   "source": [
    "print(\"sum of error: \",parser.getSse(model.predict(parser.input)))\n",
    "print(\"is it correct? \", parser.isCorrect(model.predict(parser.input)))"
   ]
  },
  {
   "cell_type": "markdown",
   "metadata": {},
   "source": [
    "# Multilayer Softmax"
   ]
  },
  {
   "cell_type": "code",
   "execution_count": null,
   "metadata": {},
   "outputs": [],
   "source": [
    "parser1 = Parser(\"../test_case/multilayer_softmax.json\")"
   ]
  },
  {
   "cell_type": "code",
   "execution_count": null,
   "metadata": {},
   "outputs": [],
   "source": [
    "model1 = Model(\"model_test1\",ANN(parser1.getInputSize(),parser1.getOutputSize()))"
   ]
  },
  {
   "cell_type": "code",
   "execution_count": null,
   "metadata": {},
   "outputs": [],
   "source": [
    "parser1.addAllLayers(model1)"
   ]
  },
  {
   "cell_type": "code",
   "execution_count": null,
   "metadata": {},
   "outputs": [],
   "source": [
    "model1.summary()"
   ]
  },
  {
   "cell_type": "code",
   "execution_count": null,
   "metadata": {},
   "outputs": [],
   "source": [
    "prediction = model1.predict(parser1.input)\n",
    "print(prediction)\n",
    "#print sse\n",
    "print(\"sum of squared error: \",parser1.getSse(prediction))\n",
    "print(\"is correct? \" ,parser1.isCorrect(prediction))"
   ]
  },
  {
   "cell_type": "markdown",
   "metadata": {},
   "source": [
    "# Multilayer"
   ]
  },
  {
   "cell_type": "code",
   "execution_count": null,
   "metadata": {},
   "outputs": [],
   "source": [
    "parser2 = Parser(\"../test_case/multilayer.json\")"
   ]
  },
  {
   "cell_type": "code",
   "execution_count": null,
   "metadata": {},
   "outputs": [],
   "source": [
    "model2 = Model(\"model_test2\",ANN(parser2.getInputSize(),parser2.getOutputSize()))"
   ]
  },
  {
   "cell_type": "code",
   "execution_count": null,
   "metadata": {},
   "outputs": [],
   "source": [
    "parser2.addAllLayers(model2)\n",
    "model2.summary()"
   ]
  },
  {
   "cell_type": "code",
   "execution_count": null,
   "metadata": {},
   "outputs": [],
   "source": [
    "#predict and evaluate\n",
    "prediction = model2.predict(parser2.input)\n",
    "print(prediction)\n",
    "print(\"sum of squared error: \",parser2.getSse(prediction))\n",
    "print(\"is correct? \" ,parser2.isCorrect(prediction))"
   ]
  },
  {
   "cell_type": "markdown",
   "metadata": {},
   "source": [
    "# ReLU"
   ]
  },
  {
   "cell_type": "code",
   "execution_count": null,
   "metadata": {},
   "outputs": [],
   "source": [
    "parser3 = Parser(\"../test_case/relu.json\")"
   ]
  },
  {
   "cell_type": "code",
   "execution_count": null,
   "metadata": {},
   "outputs": [],
   "source": [
    "#add layers and summary\n",
    "model3 = Model(\"model_test3\",ANN(parser3.getInputSize(),parser3.getOutputSize()))\n",
    "parser3.addAllLayers(model3)\n",
    "model3.summary()"
   ]
  },
  {
   "cell_type": "code",
   "execution_count": null,
   "metadata": {},
   "outputs": [],
   "source": [
    "#predict and evaluate\n",
    "prediction = model3.predict(parser3.input)\n",
    "print(prediction)\n",
    "print(\"sum of squared error: \",parser3.getSse(prediction))\n",
    "print(\"is correct? \" ,parser3.isCorrect(prediction))"
   ]
  },
  {
   "cell_type": "markdown",
   "metadata": {},
   "source": [
    "# Sigmoid"
   ]
  },
  {
   "cell_type": "code",
   "execution_count": null,
   "metadata": {},
   "outputs": [],
   "source": [
    "parser4 = Parser(\"../test_case/sigmoid.json\")"
   ]
  },
  {
   "cell_type": "code",
   "execution_count": null,
   "metadata": {},
   "outputs": [],
   "source": [
    "model4 = Model(\"model_test4\",ANN(parser4.getInputSize(),parser4.getOutputSize()))\n",
    "parser4.addAllLayers(model4)\n",
    "model4.summary()"
   ]
  },
  {
   "cell_type": "code",
   "execution_count": null,
   "metadata": {},
   "outputs": [],
   "source": [
    "prediction = model4.predict(parser4.input)\n",
    "print(prediction)\n",
    "print(\"sum of squared error: \",parser4.getSse(prediction))\n",
    "print(\"is correct? \" ,parser4.isCorrect(prediction))"
   ]
  },
  {
   "cell_type": "markdown",
   "metadata": {},
   "source": [
    "# Softmax"
   ]
  },
  {
   "cell_type": "code",
   "execution_count": null,
   "metadata": {},
   "outputs": [],
   "source": [
    "parser5 = Parser(\"../test_case/softmax.json\")"
   ]
  },
  {
   "cell_type": "code",
   "execution_count": null,
   "metadata": {},
   "outputs": [],
   "source": [
    "model5 = Model(\"model_test5\",ANN(parser5.getInputSize(),parser5.getOutputSize()))\n",
    "parser5.addAllLayers(model5)\n",
    "model5.summary()"
   ]
  },
  {
   "cell_type": "code",
   "execution_count": null,
   "metadata": {},
   "outputs": [],
   "source": [
    "prediction = model5.predict(parser5.input)\n",
    "print(prediction)\n",
    "print(\"sum of squared error: \",parser5.getSse(prediction))\n",
    "print(\"is correct? \" ,parser5.isCorrect(prediction))"
   ]
  },
  {
   "cell_type": "markdown",
   "metadata": {},
   "source": [
    "# Save each model"
   ]
  },
  {
   "cell_type": "code",
   "execution_count": null,
   "metadata": {},
   "outputs": [],
   "source": [
    "model.save(\"../saved_model/linear.pkl\")\n",
    "model1.save(\"../saved_model/multilayer_softmax.pkl\")\n",
    "model2.save(\"../saved_model/multilayer.pkl\")\n",
    "model3.save(\"../saved_model/relu.pkl\")\n",
    "model4.save(\"../saved_model/sigmoid.pkl\")\n",
    "model5.save(\"../saved_model/softmax.pkl\")"
   ]
  },
  {
   "cell_type": "markdown",
   "metadata": {},
   "source": [
    "# Load each model and doing reprediciton"
   ]
  },
  {
   "cell_type": "code",
   "execution_count": null,
   "metadata": {},
   "outputs": [],
   "source": [
    "another_model = Model.load(\"../saved_model/linear.pkl\")\n",
    "another_model.summary()"
   ]
  },
  {
   "cell_type": "code",
   "execution_count": null,
   "metadata": {},
   "outputs": [],
   "source": [
    "#try to repredict\n",
    "another_model.predict(parser.input)"
   ]
  },
  {
   "cell_type": "code",
   "execution_count": null,
   "metadata": {},
   "outputs": [],
   "source": [
    "#load others 5 models\n",
    "another_model1 = Model.load(\"../saved_model/multilayer_softmax.pkl\")\n",
    "another_model1.summary()\n",
    "another_model2 = Model.load(\"../saved_model/multilayer.pkl\")\n",
    "another_model2.summary()\n",
    "another_model3 = Model.load(\"../saved_model/relu.pkl\")\n",
    "another_model3.summary()\n",
    "another_model4 = Model.load(\"../saved_model/sigmoid.pkl\")\n",
    "another_model4.summary()\n",
    "another_model5 = Model.load(\"../saved_model/softmax.pkl\")\n",
    "another_model5.summary()"
   ]
  }
 ],
 "metadata": {
  "kernelspec": {
   "display_name": "pollux",
   "language": "python",
   "name": "python3"
  },
  "language_info": {
   "codemirror_mode": {
    "name": "ipython",
    "version": 3
   },
   "file_extension": ".py",
   "mimetype": "text/x-python",
   "name": "python",
   "nbconvert_exporter": "python",
   "pygments_lexer": "ipython3",
   "version": "3.10.13"
  }
 },
 "nbformat": 4,
 "nbformat_minor": 2
}
