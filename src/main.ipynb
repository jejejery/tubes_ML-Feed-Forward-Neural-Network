{
 "cells": [
  {
   "cell_type": "code",
   "execution_count": 1,
   "metadata": {},
   "outputs": [],
   "source": [
    "from lib import *"
   ]
  },
  {
   "cell_type": "code",
   "execution_count": 2,
   "metadata": {},
   "outputs": [],
   "source": [
    "hidden_layer1 = HiddenLayer(name=\"test0\",input_shape=3, output_shape=2, weights=None, biases=None)\n",
    "hidden_layer2 = HiddenLayer(name=\"test1\",input_shape=2, output_shape=1, weights=None, biases=None)\n",
    "output_layer = OutputLayer(name=\"test1\",input_shape=2, output_shape=1, weights=None, biases=None)"
   ]
  },
  {
   "cell_type": "code",
   "execution_count": 3,
   "metadata": {},
   "outputs": [
    {
     "name": "stdout",
     "output_type": "stream",
     "text": [
      "Summary for Model: model_test\n"
     ]
    }
   ],
   "source": [
    "the_model = Model(\"model_test\",ANN(3,1))\n",
    "the_model.summary()"
   ]
  },
  {
   "cell_type": "code",
   "execution_count": 4,
   "metadata": {},
   "outputs": [
    {
     "name": "stdout",
     "output_type": "stream",
     "text": [
      "Summary for Model: model_test\n",
      "Layer: test0 - hidden\n",
      "Layer: test1 - hidden\n",
      "Layer: test1 - output\n"
     ]
    }
   ],
   "source": [
    "the_model.add(hidden_layer1)\n",
    "the_model.add(hidden_layer2)\n",
    "the_model.add(output_layer)\n",
    "the_model.summary()"
   ]
  }
 ],
 "metadata": {
  "kernelspec": {
   "display_name": "pollux",
   "language": "python",
   "name": "python3"
  },
  "language_info": {
   "codemirror_mode": {
    "name": "ipython",
    "version": 3
   },
   "file_extension": ".py",
   "mimetype": "text/x-python",
   "name": "python",
   "nbconvert_exporter": "python",
   "pygments_lexer": "ipython3",
   "version": "3.9.18"
  }
 },
 "nbformat": 4,
 "nbformat_minor": 2
}
