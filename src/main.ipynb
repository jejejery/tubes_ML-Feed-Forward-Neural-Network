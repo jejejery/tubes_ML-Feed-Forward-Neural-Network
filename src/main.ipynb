{
 "cells": [
  {
   "cell_type": "code",
   "execution_count": 1,
   "metadata": {},
   "outputs": [],
   "source": [
    "from lib import *"
   ]
  },
  {
   "cell_type": "code",
   "execution_count": 2,
   "metadata": {},
   "outputs": [],
   "source": [
    "hidden_layer1 = HiddenLayer(name=\"test0\",input_shape=3, output_shape=2, weights=None, activation_function=\"sigmoid\")\n",
    "hidden_layer2 = HiddenLayer(name=\"test1\",input_shape=2, output_shape=1, weights=None, activation_function=\"relu\")\n",
    "output_layer = OutputLayer(name=\"test1\",input_shape=2, output_shape=1, weights=None, activation_function=\"linear\")"
   ]
  },
  {
   "cell_type": "code",
   "execution_count": 3,
   "metadata": {},
   "outputs": [
    {
     "name": "stdout",
     "output_type": "stream",
     "text": [
      "Summary for Model: model_test\n"
     ]
    }
   ],
   "source": [
    "the_model = Model(\"model_test\",ANN(3,1))\n",
    "the_model.summary()"
   ]
  },
  {
   "cell_type": "code",
   "execution_count": 4,
   "metadata": {},
   "outputs": [
    {
     "name": "stdout",
     "output_type": "stream",
     "text": [
      "Summary for Model: model_test\n",
      "Layer: test0 - hidden\n",
      "Layer: test1 - hidden\n",
      "Layer: test1 - output\n"
     ]
    }
   ],
   "source": [
    "the_model.add(hidden_layer1)\n",
    "the_model.add(hidden_layer2)\n",
    "the_model.add(output_layer)\n",
    "the_model.summary()"
   ]
  },
  {
   "cell_type": "code",
   "execution_count": 5,
   "metadata": {},
   "outputs": [
    {
     "name": "stdout",
     "output_type": "stream",
     "text": [
      "[[ 0.1  0.2  0.3]\n",
      " [ 0.4 -0.5  0.6]\n",
      " [ 0.7  0.8 -0.9]]\n"
     ]
    }
   ],
   "source": [
    "#perform testing of output layer\n",
    "#initialize weight for single perceptron\n",
    "import numpy as np\n",
    "w = np.array([\n",
    "        [0.1, 0.2, 0.3],\n",
    "        [0.4, -0.5, 0.6],\n",
    "        [0.7, 0.8, -0.9]\n",
    "      ])\n",
    "\n",
    "print(w)"
   ]
  },
  {
   "cell_type": "code",
   "execution_count": 6,
   "metadata": {},
   "outputs": [
    {
     "name": "stdout",
     "output_type": "stream",
     "text": [
      "[[-1.   0.5]]\n"
     ]
    }
   ],
   "source": [
    "#example input:\n",
    "input_array = np.array([[-1.0, 0.5]])\n",
    "# append the first column of 1s\n",
    "print(input_array)"
   ]
  },
  {
   "cell_type": "code",
   "execution_count": 7,
   "metadata": {},
   "outputs": [],
   "source": [
    "dummy_output_layer = OutputLayer(name=\"test1\",input_shape=2, output_shape=3, weights=w, activation_function=\"relu\")"
   ]
  },
  {
   "cell_type": "code",
   "execution_count": 8,
   "metadata": {},
   "outputs": [
    {
     "name": "stdout",
     "output_type": "stream",
     "text": [
      "[[0.05 1.1  0.  ]]\n"
     ]
    }
   ],
   "source": [
    "print(dummy_output_layer.forward_propagation(input_array))"
   ]
  }
 ],
 "metadata": {
  "kernelspec": {
   "display_name": "pollux",
   "language": "python",
   "name": "python3"
  },
  "language_info": {
   "codemirror_mode": {
    "name": "ipython",
    "version": 3
   },
   "file_extension": ".py",
   "mimetype": "text/x-python",
   "name": "python",
   "nbconvert_exporter": "python",
   "pygments_lexer": "ipython3",
   "version": "3.9.18"
  }
 },
 "nbformat": 4,
 "nbformat_minor": 2
}
