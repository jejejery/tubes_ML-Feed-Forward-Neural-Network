{
 "cells": [
  {
   "cell_type": "code",
   "execution_count": 1,
   "metadata": {},
   "outputs": [],
   "source": [
    "from lib import *"
   ]
  },
  {
   "cell_type": "markdown",
   "metadata": {},
   "source": [
    "## Linear_small_lr"
   ]
  },
  {
   "cell_type": "code",
   "execution_count": 3,
   "metadata": {},
   "outputs": [
    {
     "name": "stdout",
     "output_type": "stream",
     "text": [
      "\n",
      "\n",
      "\n",
      "Epoch 1 completed\n",
      "Loss: 0.665\n",
      "Summary for Model: the_model\n",
      "=====================================\n",
      "Layer: output1 | Type: output | Output shape: 3\n",
      "Weights:\n",
      " [[ 0.1012  0.3006  0.1991]\n",
      " [ 0.4024  0.201  -0.7019]\n",
      " [ 0.1018 -0.799   0.4987]]\n",
      "=====================================\n"
     ]
    }
   ],
   "source": [
    "parser = BackPropParser(\"../test_case/B/linear_small_lr.json\")\n",
    "model = parser.build_model()\n",
    "\n",
    "model.fit(parser.input, parser.target, parser.max_iteration, parser.learning_rate, parser.batch_size, error_threshold=parser.error_threshold)\n",
    "model.summary()"
   ]
  },
  {
   "cell_type": "markdown",
   "metadata": {},
   "source": [
    "## linear_two_iteration"
   ]
  },
  {
   "cell_type": "code",
   "execution_count": 4,
   "metadata": {},
   "outputs": [
    {
     "name": "stdout",
     "output_type": "stream",
     "text": [
      "\n",
      "\n",
      "\n",
      "Epoch 1 completed\n",
      "Loss: 0.665\n",
      "Epoch 2 completed\n",
      "Loss: 0.1818499999999999\n",
      "Summary for Model: the_model\n",
      "=====================================\n",
      "Layer: output1 | Type: output | Output shape: 3\n",
      "Weights:\n",
      " [[ 0.166  0.338  0.153]\n",
      " [ 0.502  0.226 -0.789]\n",
      " [ 0.214 -0.718  0.427]]\n",
      "=====================================\n"
     ]
    }
   ],
   "source": [
    "parser = BackPropParser(\"../test_case/B/linear_two_iteration.json\")\n",
    "model = parser.build_model()\n",
    "\n",
    "model.fit(parser.input, parser.target, parser.max_iteration, parser.learning_rate, parser.batch_size, error_threshold=parser.error_threshold)\n",
    "model.summary()"
   ]
  },
  {
   "cell_type": "markdown",
   "metadata": {},
   "source": [
    "## linear"
   ]
  },
  {
   "cell_type": "code",
   "execution_count": 5,
   "metadata": {},
   "outputs": [
    {
     "name": "stdout",
     "output_type": "stream",
     "text": [
      "\n",
      "\n",
      "\n",
      "Epoch 1 completed\n",
      "Loss: 0.665\n",
      "Summary for Model: the_model\n",
      "=====================================\n",
      "Layer: output1 | Type: output | Output shape: 3\n",
      "Weights:\n",
      " [[ 0.22  0.36  0.11]\n",
      " [ 0.64  0.3  -0.89]\n",
      " [ 0.28 -0.7   0.37]]\n",
      "=====================================\n"
     ]
    }
   ],
   "source": [
    "parser = BackPropParser(\"../test_case/B/linear.json\")\n",
    "model = parser.build_model()\n",
    "\n",
    "model.fit(parser.input, parser.target, parser.max_iteration, parser.learning_rate, parser.batch_size, error_threshold=parser.error_threshold)\n",
    "model.summary()"
   ]
  },
  {
   "cell_type": "markdown",
   "metadata": {},
   "source": [
    "## mlp"
   ]
  },
  {
   "cell_type": "code",
   "execution_count": 6,
   "metadata": {},
   "outputs": [
    {
     "name": "stdout",
     "output_type": "stream",
     "text": [
      "\n",
      "\n",
      "\n",
      "Epoch 1 completed\n",
      "Loss: 0.676952\n",
      "Summary for Model: the_model\n",
      "=====================================\n",
      "Layer: hidden1 | Type: hidden | Output shape: 2\n",
      "Weights:\n",
      " [[ 0.08592   0.32276 ]\n",
      " [-0.33872   0.46172 ]\n",
      " [ 0.449984  0.440072]]\n",
      "_____________________________________\n",
      "Layer: output1 | Type: output | Output shape: 2\n",
      "Weights:\n",
      " [[ 0.2748    0.188   ]\n",
      " [ 0.435904 -0.53168 ]\n",
      " [ 0.68504   0.7824  ]]\n",
      "=====================================\n"
     ]
    }
   ],
   "source": [
    "parser = BackPropParser(\"../test_case/B/mlp.json\")\n",
    "model = parser.build_model()\n",
    "\n",
    "model.fit(parser.input, parser.target, parser.max_iteration, parser.learning_rate, parser.batch_size, error_threshold=parser.error_threshold)\n",
    "model.summary()"
   ]
  },
  {
   "cell_type": "markdown",
   "metadata": {},
   "source": [
    "## relu_b"
   ]
  },
  {
   "cell_type": "code",
   "execution_count": 7,
   "metadata": {},
   "outputs": [
    {
     "name": "stdout",
     "output_type": "stream",
     "text": [
      "\n",
      "\n",
      "\n",
      "Epoch 1 completed\n",
      "Loss: 2.7935499999999998\n",
      "Summary for Model: the_model\n",
      "=====================================\n",
      "Layer: output1 | Type: output | Output shape: 3\n",
      "Weights:\n",
      " [[-0.211   0.105   0.885 ]\n",
      " [ 0.3033  0.5285  0.3005]\n",
      " [-0.489  -0.905   0.291 ]]\n",
      "=====================================\n"
     ]
    }
   ],
   "source": [
    "parser = BackPropParser(\"../test_case/B/relu_b.json\")\n",
    "model = parser.build_model()\n",
    "\n",
    "model.fit(parser.input, parser.target, parser.max_iteration, parser.learning_rate, parser.batch_size, error_threshold=parser.error_threshold)\n",
    "model.summary()"
   ]
  },
  {
   "cell_type": "markdown",
   "metadata": {},
   "source": [
    "## sigmoid"
   ]
  },
  {
   "cell_type": "code",
   "execution_count": 8,
   "metadata": {},
   "outputs": [
    {
     "name": "stdout",
     "output_type": "stream",
     "text": [
      "\n",
      "\n",
      "\n",
      "Epoch 1 completed\n",
      "Loss: 0.4728101406019331\n",
      "Epoch 2 completed\n",
      "Loss: 0.47078073489758887\n",
      "Epoch 3 completed\n",
      "Loss: 0.46876757811986325\n",
      "Epoch 4 completed\n",
      "Loss: 0.4667706588834645\n",
      "Epoch 5 completed\n",
      "Loss: 0.4647899555600068\n",
      "Epoch 6 completed\n",
      "Loss: 0.4628254366344452\n",
      "Epoch 7 completed\n",
      "Loss: 0.46087706106867526\n",
      "Epoch 8 completed\n",
      "Loss: 0.45894477867098016\n",
      "Epoch 9 completed\n",
      "Loss: 0.4570285304700267\n",
      "Epoch 10 completed\n",
      "Loss: 0.4551282490921642\n",
      "Summary for Model: the_model\n",
      "=====================================\n",
      "Layer: output1 | Type: output | Output shape: 2\n",
      "Weights:\n",
      " [[0.23291176 0.06015346]\n",
      " [0.12884088 0.64849474]\n",
      " [0.837615   0.23158199]]\n",
      "=====================================\n"
     ]
    }
   ],
   "source": [
    "parser = BackPropParser(\"../test_case/B/sigmoid.json\")\n",
    "model = parser.build_model()\n",
    "\n",
    "model.fit(parser.input, parser.target, parser.max_iteration, parser.learning_rate, parser.batch_size, error_threshold=parser.error_threshold)\n",
    "model.summary()"
   ]
  },
  {
   "cell_type": "markdown",
   "metadata": {},
   "source": [
    "## softmax_two_layer"
   ]
  },
  {
   "cell_type": "code",
   "execution_count": 2,
   "metadata": {},
   "outputs": [
    {
     "name": "stdout",
     "output_type": "stream",
     "text": [
      "\n",
      "\n",
      "\n",
      "Epoch 1 completed\n",
      "Loss: 0.7441914875904845\n",
      "Epoch 2 completed\n",
      "Loss: 0.7192975689858512\n",
      "Epoch 3 completed\n",
      "Loss: 0.7120651980649761\n",
      "Epoch 4 completed\n",
      "Loss: 0.7046647862031052\n",
      "Epoch 5 completed\n",
      "Loss: 0.6952825457480252\n",
      "Epoch 6 completed\n",
      "Loss: 0.6869383014651733\n",
      "Epoch 7 completed\n",
      "Loss: 0.669474704826605\n",
      "Epoch 8 completed\n",
      "Loss: 0.6453807084803262\n",
      "Epoch 9 completed\n",
      "Loss: 0.619978718528891\n",
      "Epoch 10 completed\n",
      "Loss: 0.5678508849730665\n",
      "Epoch 11 completed\n",
      "Loss: 0.5193498295284682\n",
      "Epoch 12 completed\n",
      "Loss: 0.4698520612274721\n",
      "Epoch 13 completed\n",
      "Loss: 0.4184267419544394\n",
      "Epoch 14 completed\n",
      "Loss: 0.35501399891760343\n",
      "Epoch 15 completed\n",
      "Loss: 0.31623881363031375\n",
      "Epoch 16 completed\n",
      "Loss: 0.2945156445321804\n",
      "Epoch 17 completed\n",
      "Loss: 0.2476383456594658\n",
      "Epoch 18 completed\n",
      "Loss: 0.1983882682030809\n",
      "Epoch 19 completed\n",
      "Loss: 0.16479355846880406\n",
      "Epoch 20 completed\n",
      "Loss: 0.14575639215178515\n",
      "Epoch 21 completed\n",
      "Loss: 0.12927780956781373\n",
      "Epoch 22 completed\n",
      "Loss: 0.11737724813871708\n",
      "Epoch 23 completed\n",
      "Loss: 0.11753100727064728\n",
      "Epoch 24 completed\n",
      "Loss: 0.10351133877138902\n",
      "Epoch 25 completed\n",
      "Loss: 0.09444888229345492\n",
      "Epoch 26 completed\n",
      "Loss: 0.08661162612119305\n",
      "Epoch 27 completed\n",
      "Loss: 0.0799011204836053\n",
      "Epoch 28 completed\n",
      "Loss: 0.074207215961786\n",
      "Epoch 29 completed\n",
      "Loss: 0.06929440015082666\n",
      "Epoch 30 completed\n",
      "Loss: 0.0648337985350353\n",
      "Epoch 31 completed\n",
      "Loss: 0.06095202202572614\n",
      "Epoch 32 completed\n",
      "Loss: 0.0574910262627395\n",
      "Epoch 33 completed\n",
      "Loss: 0.054331158458339884\n",
      "Epoch 34 completed\n",
      "Loss: 0.051508051433496474\n",
      "Epoch 35 completed\n",
      "Loss: 0.04895161448477357\n",
      "Epoch 36 completed\n",
      "Loss: 0.04660409076222612\n",
      "Epoch 37 completed\n",
      "Loss: 0.04446449368225478\n",
      "Epoch 38 completed\n",
      "Loss: 0.04249921238050418\n",
      "Epoch 39 completed\n",
      "Loss: 0.04069741336737662\n",
      "Epoch 40 completed\n",
      "Loss: 0.03902413948527397\n",
      "Epoch 41 completed\n",
      "Loss: 0.037468929580440076\n",
      "Epoch 42 completed\n",
      "Loss: 0.03605956191451427\n",
      "Epoch 43 completed\n",
      "Loss: 0.03470448794207519\n",
      "Epoch 44 completed\n",
      "Loss: 0.03350314010597216\n",
      "Epoch 45 completed\n",
      "Loss: 0.033467208428627576\n",
      "Epoch 46 completed\n",
      "Loss: 0.03207116971045648\n",
      "Epoch 47 completed\n",
      "Loss: 0.030936198083695937\n",
      "Epoch 48 completed\n",
      "Loss: 0.02989741414838\n",
      "Epoch 49 completed\n",
      "Loss: 0.028935938473992034\n",
      "Epoch 50 completed\n",
      "Loss: 0.028033156844190905\n",
      "Epoch 51 completed\n",
      "Loss: 0.027191092125931376\n",
      "Epoch 52 completed\n",
      "Loss: 0.026387645222185282\n",
      "Epoch 53 completed\n",
      "Loss: 0.025629663314463952\n",
      "Epoch 54 completed\n",
      "Loss: 0.024914088858874174\n",
      "Epoch 55 completed\n",
      "Loss: 0.024233330273247936\n",
      "Epoch 56 completed\n",
      "Loss: 0.023591687259564655\n",
      "Epoch 57 completed\n",
      "Loss: 0.022978535416884802\n",
      "Epoch 58 completed\n",
      "Loss: 0.02239469114310498\n",
      "Epoch 59 completed\n",
      "Loss: 0.02183947005703902\n",
      "Epoch 60 completed\n",
      "Loss: 0.02130913464342872\n",
      "Epoch 61 completed\n",
      "Loss: 0.02080348673943544\n",
      "Epoch 62 completed\n",
      "Loss: 0.020322687315492045\n",
      "Epoch 63 completed\n",
      "Loss: 0.019859856200403703\n",
      "Epoch 64 completed\n",
      "Loss: 0.019417035231708304\n",
      "Epoch 65 completed\n",
      "Loss: 0.018993049831212812\n",
      "Epoch 66 completed\n",
      "Loss: 0.018586132858503246\n",
      "Epoch 67 completed\n",
      "Loss: 0.01819795698919901\n",
      "Epoch 68 completed\n",
      "Loss: 0.017822862630567125\n",
      "Epoch 69 completed\n",
      "Loss: 0.017462107935584677\n",
      "Epoch 70 completed\n",
      "Loss: 0.017115422158190924\n",
      "Epoch 71 completed\n",
      "Loss: 0.016996784159559707\n",
      "Epoch 72 completed\n",
      "Loss: 0.016780629857950605\n",
      "Epoch 73 completed\n",
      "Loss: 0.016426259190846004\n",
      "Epoch 74 completed\n",
      "Loss: 0.01609970113077214\n",
      "Epoch 75 completed\n",
      "Loss: 0.015793962441384146\n",
      "Epoch 76 completed\n",
      "Loss: 0.015502581534116159\n",
      "Epoch 77 completed\n",
      "Loss: 0.015221909478664438\n",
      "Epoch 78 completed\n",
      "Loss: 0.014952433694780744\n",
      "Epoch 79 completed\n",
      "Loss: 0.014692471265410569\n",
      "Epoch 80 completed\n",
      "Loss: 0.014441366162684832\n",
      "Epoch 81 completed\n",
      "Loss: 0.0141993924953949\n",
      "Epoch 82 completed\n",
      "Loss: 0.013964477415771913\n",
      "Epoch 83 completed\n",
      "Loss: 0.013736834330713555\n",
      "Epoch 84 completed\n",
      "Loss: 0.013516341897907735\n",
      "Epoch 85 completed\n",
      "Loss: 0.013302635136784268\n",
      "Epoch 86 completed\n",
      "Loss: 0.01309559105766265\n",
      "Epoch 87 completed\n",
      "Loss: 0.012894404766998872\n",
      "Epoch 88 completed\n",
      "Loss: 0.012699219389652058\n",
      "Epoch 89 completed\n",
      "Loss: 0.012509679153246989\n",
      "Epoch 90 completed\n",
      "Loss: 0.012326626289931121\n",
      "Epoch 91 completed\n",
      "Loss: 0.012147096132707383\n",
      "Epoch 92 completed\n",
      "Loss: 0.011973060240144457\n",
      "Epoch 93 completed\n",
      "Loss: 0.011803803526521855\n",
      "Epoch 94 completed\n",
      "Loss: 0.011639129131310983\n",
      "Epoch 95 completed\n",
      "Loss: 0.011478978297301448\n",
      "Epoch 96 completed\n",
      "Loss: 0.011322879132895546\n",
      "Epoch 97 completed\n",
      "Loss: 0.011269472016877113\n",
      "Epoch 98 completed\n",
      "Loss: 0.011168703337084987\n",
      "Epoch 99 completed\n",
      "Loss: 0.011011157947281242\n",
      "Epoch 100 completed\n",
      "Loss: 0.010860649531538324\n",
      "Epoch 101 completed\n",
      "Loss: 0.01071623678430009\n",
      "Epoch 102 completed\n",
      "Loss: 0.010577211418008357\n",
      "Epoch 103 completed\n",
      "Loss: 0.010442214044630516\n",
      "Epoch 104 completed\n",
      "Loss: 0.010310581316745221\n",
      "Epoch 105 completed\n",
      "Loss: 0.010182535028676883\n",
      "Epoch 106 completed\n",
      "Loss: 0.010057789051391808\n",
      "Epoch 107 completed\n",
      "Loss: 0.009936242476110826\n",
      "Summary for Model: the_model\n",
      "=====================================\n",
      "Layer: hidden1 | Type: hidden | Output shape: 4 | Activation function: relu\n",
      "Weights:\n",
      " [[-0.28730211 -0.28822282 -0.70597451  0.42094471]\n",
      " [-0.5790794  -1.1836444  -1.34287961  0.69575311]\n",
      " [-0.41434377  1.51314676 -0.97649086 -1.3043465 ]]\n",
      "_____________________________________\n",
      "Layer: output1 | Type: output | Output shape: 2 | Activation function: softmax\n",
      "Weights:\n",
      " [[-1.72078607  1.74078607]\n",
      " [-0.50352956  0.48352956]\n",
      " [ 1.25764816 -1.23764816]\n",
      " [-1.16998784  1.14998784]\n",
      " [ 1.0907634  -1.0707634 ]]\n",
      "=====================================\n"
     ]
    }
   ],
   "source": [
    "parser = BackPropParser(\"../test_case/B/softmax_two_layer.json\")\n",
    "model = parser.build_model()\n",
    "\n",
    "model.fit(parser.input, parser.target, parser.max_iteration, parser.learning_rate, parser.batch_size, error_threshold=parser.error_threshold)\n",
    "model.summary()"
   ]
  },
  {
   "cell_type": "markdown",
   "metadata": {},
   "source": [
    "## softmax"
   ]
  },
  {
   "cell_type": "code",
   "execution_count": 10,
   "metadata": {},
   "outputs": [
    {
     "name": "stdout",
     "output_type": "stream",
     "text": [
      "\n",
      "\n",
      "\n",
      "Epoch 1 completed\n",
      "Loss: 0.7764326720561623\n",
      "Epoch 2 completed\n",
      "Loss: 0.8524736931926981\n",
      "Epoch 3 completed\n",
      "Loss: 0.9368612303795208\n",
      "Epoch 4 completed\n",
      "Loss: 0.9036143843158426\n",
      "Epoch 5 completed\n",
      "Loss: 0.7888414455351624\n",
      "Epoch 6 completed\n",
      "Loss: 0.691786872890397\n",
      "Epoch 7 completed\n",
      "Loss: 0.6100235912667268\n",
      "Epoch 8 completed\n",
      "Loss: 0.5412097014358184\n",
      "Epoch 9 completed\n",
      "Loss: 0.48323045526251013\n",
      "Epoch 10 completed\n",
      "Loss: 0.434255001220771\n",
      "Summary for Model: the_model\n",
      "=====================================\n",
      "Layer: output1 | Type: output | Output shape: 3\n",
      "Weights:\n",
      " [[ 0.12674605  0.9149538  -0.14169985]\n",
      " [-0.33551647  0.67700488  0.45851159]\n",
      " [ 0.48314436 -0.85241216  0.2692678 ]\n",
      " [ 0.3400255   0.57237542 -0.31240092]\n",
      " [ 0.31397716  0.46349737  0.72252547]\n",
      " [-0.69652442  0.4789189   0.61760552]\n",
      " [-0.50884515 -0.36354141  0.57238656]\n",
      " [ 0.41891295  0.26354517 -0.48245812]\n",
      " [ 0.90374164 -0.01759501 -0.08614663]]\n",
      "=====================================\n"
     ]
    }
   ],
   "source": [
    "parser = BackPropParser(\"../test_case/B/softmax.json\")\n",
    "model = parser.build_model()\n",
    "\n",
    "model.fit(parser.input, parser.target, parser.max_iteration, parser.learning_rate, parser.batch_size, error_threshold=parser.error_threshold)\n",
    "model.summary()"
   ]
  }
 ],
 "metadata": {
  "kernelspec": {
   "display_name": "tensorflow",
   "language": "python",
   "name": "python3"
  },
  "language_info": {
   "codemirror_mode": {
    "name": "ipython",
    "version": 3
   },
   "file_extension": ".py",
   "mimetype": "text/x-python",
   "name": "python",
   "nbconvert_exporter": "python",
   "pygments_lexer": "ipython3",
   "version": "3.10.13"
  }
 },
 "nbformat": 4,
 "nbformat_minor": 2
}
