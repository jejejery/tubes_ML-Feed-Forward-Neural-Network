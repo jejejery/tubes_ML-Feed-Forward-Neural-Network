{
 "cells": [
  {
   "cell_type": "code",
   "execution_count": 33,
   "metadata": {},
   "outputs": [
    {
     "ename": "TypeError",
     "evalue": "'module' object is not callable",
     "output_type": "error",
     "traceback": [
      "\u001b[0;31m---------------------------------------------------------------------------\u001b[0m",
      "\u001b[0;31mTypeError\u001b[0m                                 Traceback (most recent call last)",
      "Cell \u001b[0;32mIn[33], line 2\u001b[0m\n\u001b[1;32m      1\u001b[0m \u001b[38;5;28;01mfrom\u001b[39;00m \u001b[38;5;21;01mlib\u001b[39;00m \u001b[38;5;28;01mimport\u001b[39;00m PreProcessing\n\u001b[0;32m----> 2\u001b[0m data \u001b[38;5;241m=\u001b[39m \u001b[43mPreProcessing\u001b[49m\u001b[43m(\u001b[49m\u001b[38;5;124;43m\"\u001b[39;49m\u001b[38;5;124;43m../testcase_dataset/iris.csv\u001b[39;49m\u001b[38;5;124;43m\"\u001b[39;49m\u001b[43m)\u001b[49m\n",
      "\u001b[0;31mTypeError\u001b[0m: 'module' object is not callable"
     ]
    }
   ],
   "source": [
    "from lib import *"
   ]
  },
  {
   "cell_type": "code",
   "execution_count": 22,
   "metadata": {},
   "outputs": [],
   "source": [
    "import numpy as np\n",
    "import pandas as pd"
   ]
  },
  {
   "cell_type": "code",
   "execution_count": 29,
   "metadata": {},
   "outputs": [
    {
     "ename": "TypeError",
     "evalue": "'module' object is not callable",
     "output_type": "error",
     "traceback": [
      "\u001b[0;31m---------------------------------------------------------------------------\u001b[0m",
      "\u001b[0;31mTypeError\u001b[0m                                 Traceback (most recent call last)",
      "Cell \u001b[0;32mIn[29], line 1\u001b[0m\n\u001b[0;32m----> 1\u001b[0m data \u001b[38;5;241m=\u001b[39m \u001b[43mPreProcessing\u001b[49m\u001b[43m(\u001b[49m\u001b[38;5;124;43m\"\u001b[39;49m\u001b[38;5;124;43m../testcase_dataset/iris.csv\u001b[39;49m\u001b[38;5;124;43m\"\u001b[39;49m\u001b[43m)\u001b[49m\n",
      "\u001b[0;31mTypeError\u001b[0m: 'module' object is not callable"
     ]
    }
   ],
   "source": [
    "data = PreProcessing(\"../testcase_dataset/iris.csv\")"
   ]
  },
  {
   "cell_type": "code",
   "execution_count": null,
   "metadata": {},
   "outputs": [],
   "source": [
    "W1 = np.array(\n",
    "    [[0.35, 0.35]\n",
    "     ,[0.15, 0.25]\n",
    "    ,[0.20, 0.30]]\n",
    "    )"
   ]
  },
  {
   "cell_type": "code",
   "execution_count": null,
   "metadata": {},
   "outputs": [],
   "source": [
    "W2 = np.array(\n",
    "    [[0.60, 0.60, 0.5]\n",
    "    ,[0.40, 0.50, 0.4],\n",
    "    [0.45, 0.55, 0.2]]\n",
    "    )"
   ]
  },
  {
   "cell_type": "code",
   "execution_count": null,
   "metadata": {},
   "outputs": [],
   "source": [
    "X = np.array([[0.05, 0.10],[0.2,0.3]])\n",
    "Y = np.array([[0, 1, 0],[0, 0, 1]])"
   ]
  },
  {
   "cell_type": "code",
   "execution_count": null,
   "metadata": {},
   "outputs": [],
   "source": [
    "model = Model(\"ajg\",ANN(2,3))"
   ]
  },
  {
   "cell_type": "code",
   "execution_count": null,
   "metadata": {},
   "outputs": [],
   "source": [
    "layer1 = HiddenLayer(\"hidden1\",2,2,W1,\"sigmoid\")\n",
    "layer2 = OutputLayer(\"hidden2\",2,3,W2,\"softmax\",Y)\n",
    "model.add(layer1)\n",
    "model.add(layer2)"
   ]
  },
  {
   "cell_type": "code",
   "execution_count": null,
   "metadata": {},
   "outputs": [],
   "source": [
    "model.summary()"
   ]
  },
  {
   "cell_type": "code",
   "execution_count": null,
   "metadata": {},
   "outputs": [],
   "source": [
    "model.predict(X)"
   ]
  },
  {
   "cell_type": "code",
   "execution_count": null,
   "metadata": {},
   "outputs": [],
   "source": [
    "model.test_backward()"
   ]
  },
  {
   "cell_type": "code",
   "execution_count": null,
   "metadata": {},
   "outputs": [],
   "source": [
    "\"\"\"\n",
    "coba testcase dari asisten buat sigmoid\n",
    "{\n",
    "    \"case\": {\n",
    "        \"model\": {\n",
    "            \"input_size\": 2,\n",
    "            \"layers\": [\n",
    "                {\n",
    "                    \"number_of_neurons\": 2,\n",
    "                    \"activation_function\": \"sigmoid\"\n",
    "                }\n",
    "            ]\n",
    "        },\n",
    "        \"input\": [\n",
    "            [0.5, 0.0],\n",
    "            [0.0, 0.5]\n",
    "        ],\n",
    "        \"initial_weights\": [\n",
    "            [\n",
    "              [0.3, 0.1], \n",
    "\t\t  [0.2, 0.6],\n",
    "\t\t  [0.8, 0.3]\n",
    "            ]\n",
    "        ],\n",
    "        \"target\": [\n",
    "            [0.0, 1.0],\n",
    "            [1.0, 0.0]\n",
    "        ],\n",
    "        \"learning_parameters\": {\n",
    "            \"learning_rate\": 0.1,\n",
    "            \"batch_size\": 2,\n",
    "            \"max_iteration\": 10,\n",
    "            \"error_threshold\": 0.01\n",
    "        }\n",
    "    },\n",
    "    \"expect\": {\n",
    "        \"stopped_by\": \"max_iteration\",\n",
    "\t  \"final_weights\":[\n",
    "\t\t [\n",
    "\t\t\t[0.2329, 0.0601],\n",
    "\t\t\t[0.1288, 0.6484],\n",
    "\t\t\t[0.8376, 0.2315]\n",
    "\t\t ]\n",
    "\t  ]\n",
    "    }\n",
    "}\n",
    "\"\"\""
   ]
  },
  {
   "cell_type": "code",
   "execution_count": null,
   "metadata": {},
   "outputs": [],
   "source": [
    "W = np.array([\n",
    "              [0.3, 0.1], \n",
    "\t\t    [0.2, 0.6],\n",
    "\t\t    [0.8, 0.3]\n",
    "            ])"
   ]
  },
  {
   "cell_type": "code",
   "execution_count": null,
   "metadata": {},
   "outputs": [],
   "source": [
    "X = np.array([\n",
    "            [0.5, 0.0],\n",
    "            [0.0, 0.5]\n",
    "            ])\n",
    "Y = np.array([\n",
    "            [0.0, 1.0],\n",
    "            [1.0, 0.0]\n",
    "            ])\n"
   ]
  },
  {
   "cell_type": "code",
   "execution_count": 20,
   "metadata": {},
   "outputs": [
    {
     "ename": "NameError",
     "evalue": "name 'W' is not defined",
     "output_type": "error",
     "traceback": [
      "\u001b[0;31m---------------------------------------------------------------------------\u001b[0m",
      "\u001b[0;31mNameError\u001b[0m                                 Traceback (most recent call last)",
      "Cell \u001b[0;32mIn[20], line 2\u001b[0m\n\u001b[1;32m      1\u001b[0m model2 \u001b[38;5;241m=\u001b[39m Model(\u001b[38;5;124m\"\u001b[39m\u001b[38;5;124majg\u001b[39m\u001b[38;5;124m\"\u001b[39m,ANN(\u001b[38;5;241m2\u001b[39m,\u001b[38;5;241m2\u001b[39m,learning_rate\u001b[38;5;241m=\u001b[39m\u001b[38;5;241m0.1\u001b[39m))\n\u001b[0;32m----> 2\u001b[0m model2\u001b[38;5;241m.\u001b[39madd(OutputLayer(\u001b[38;5;124m\"\u001b[39m\u001b[38;5;124moutput1\u001b[39m\u001b[38;5;124m\"\u001b[39m,\u001b[38;5;241m2\u001b[39m,\u001b[38;5;241m2\u001b[39m,\u001b[43mW\u001b[49m,\u001b[38;5;124m\"\u001b[39m\u001b[38;5;124msigmoid\u001b[39m\u001b[38;5;124m\"\u001b[39m,Y))\n\u001b[1;32m      3\u001b[0m model2\u001b[38;5;241m.\u001b[39msummary()\n",
      "\u001b[0;31mNameError\u001b[0m: name 'W' is not defined"
     ]
    }
   ],
   "source": [
    "model2 = Model(\"ajg\",ANN(2,2,learning_rate=0.1))\n",
    "model2.add(OutputLayer(\"output1\",2,2,W,\"sigmoid\",Y))\n",
    "model2.summary()"
   ]
  },
  {
   "cell_type": "code",
   "execution_count": 19,
   "metadata": {},
   "outputs": [
    {
     "ename": "NameError",
     "evalue": "name 'model2' is not defined",
     "output_type": "error",
     "traceback": [
      "\u001b[0;31m---------------------------------------------------------------------------\u001b[0m",
      "\u001b[0;31mNameError\u001b[0m                                 Traceback (most recent call last)",
      "Cell \u001b[0;32mIn[19], line 1\u001b[0m\n\u001b[0;32m----> 1\u001b[0m \u001b[43mmodel2\u001b[49m\u001b[38;5;241m.\u001b[39mfit(X,Y,\u001b[38;5;241m10\u001b[39m,\u001b[38;5;241m0.1\u001b[39m,batch_size\u001b[38;5;241m=\u001b[39m\u001b[38;5;241m2\u001b[39m,error_threshold\u001b[38;5;241m=\u001b[39m\u001b[38;5;241m0.01\u001b[39m)\n",
      "\u001b[0;31mNameError\u001b[0m: name 'model2' is not defined"
     ]
    }
   ],
   "source": [
    "model2.fit(X,Y,10,0.1,batch_size=2,error_threshold=0.01)"
   ]
  },
  {
   "cell_type": "code",
   "execution_count": null,
   "metadata": {},
   "outputs": [],
   "source": [
    "model2.summary()"
   ]
  },
  {
   "cell_type": "markdown",
   "metadata": {},
   "source": [
    "# Hasilnya sama gan"
   ]
  },
  {
   "cell_type": "code",
   "execution_count": null,
   "metadata": {},
   "outputs": [],
   "source": [
    "\"\"\"\n",
    "Coba Softmax\n",
    "{\n",
    "    \"case\": {\n",
    "        \"model\": {\n",
    "            \"input_size\": 8,\n",
    "            \"layers\": [\n",
    "                {\n",
    "                    \"number_of_neurons\": 3,\n",
    "                    \"activation_function\": \"softmax\"\n",
    "                }\n",
    "            ]\n",
    "        },\n",
    "        \"input\": [\n",
    "            [-2.4, -2.78, -0.6, 0.37, 2.46, -0.92, 2.76, 2.62],\n",
    "            [-1.79, 1.65, -0.77, -1.03, 0.1, 2.12, -2.36, 1.25],\n",
    "            [1.65, 2.34, 0.27, 2.34, 0.52, 1.37, 1.77, 0.62]\n",
    "        ],\n",
    "        \"initial_weights\": [\n",
    "            [\n",
    "                [0.1, 0.9, -0.1],\n",
    "                [-0.2, 0.8, 0.2],\n",
    "                [0.3, -0.7, 0.3],\n",
    "                [0.4, 0.6, -0.4],\n",
    "                [0.5, 0.5, 0.5],\n",
    "                [-0.6, 0.4, 0.6],\n",
    "                [-0.7, -0.3, 0.7],\n",
    "                [0.8, 0.2, -0.8],\n",
    "                [0.9, -0.1, 0.0]\n",
    "            ]\n",
    "        ],\n",
    "        \"target\": [\n",
    "            [0, 1, 0],\n",
    "            [1, 0, 0],\n",
    "            [0, 0, 1]\n",
    "        ],\n",
    "        \"learning_parameters\": {\n",
    "            \"learning_rate\": 0.01,\n",
    "            \"batch_size\": 1,\n",
    "            \"max_iteration\": 10,\n",
    "            \"error_threshold\": 0.05\n",
    "        }\n",
    "    },\n",
    "    \"expect\": {\n",
    "        \"stopped_by\": \"max_iteration\",\n",
    "        \"final_weights\": [\n",
    "            [\n",
    "                [ 0.12674605,  0.9149538,  -0.14169985],\n",
    "                [-0.33551647,  0.67700488,  0.45851159],\n",
    "                [ 0.48314436, -0.85241216,  0.2692678 ],\n",
    "                [ 0.3400255,   0.57237542, -0.31240092],\n",
    "                [ 0.31397716,  0.46349737,  0.72252547],\n",
    "                [-0.69652442,  0.4789189,   0.61760552],\n",
    "                [-0.50884515, -0.36354141,  0.57238656],\n",
    "                [ 0.41891295,  0.26354517, -0.48245812],\n",
    "                [ 0.90374164, -0.01759501, -0.08614663]\n",
    "            ]\n",
    "        ]\n",
    "    }\n",
    "}\n",
    "\"\"\""
   ]
  },
  {
   "cell_type": "code",
   "execution_count": null,
   "metadata": {},
   "outputs": [],
   "source": [
    "X = np.array([\n",
    "            [-2.4, -2.78, -0.6, 0.37, 2.46, -0.92, 2.76, 2.62],\n",
    "            [-1.79, 1.65, -0.77, -1.03, 0.1, 2.12, -2.36, 1.25],\n",
    "            [1.65, 2.34, 0.27, 2.34, 0.52, 1.37, 1.77, 0.62]\n",
    "        ])\n",
    "Y = np.array([\n",
    "            [0, 1, 0],\n",
    "            [1, 0, 0],\n",
    "            [0, 0, 1]\n",
    "        ])"
   ]
  },
  {
   "cell_type": "code",
   "execution_count": null,
   "metadata": {},
   "outputs": [],
   "source": [
    "model3 = Model(\"ajg\",ANN(8,3,learning_rate=0.01))\n",
    "W = np.array([\n",
    "                [0.1, 0.9, -0.1],\n",
    "                [-0.2, 0.8, 0.2],\n",
    "                [0.3, -0.7, 0.3],\n",
    "                [0.4, 0.6, -0.4],\n",
    "                [0.5, 0.5, 0.5],\n",
    "                [-0.6, 0.4, 0.6],\n",
    "                [-0.7, -0.3, 0.7],\n",
    "                [0.8, 0.2, -0.8],\n",
    "                [0.9, -0.1, 0.0]\n",
    "            ])\n",
    "model3.add(OutputLayer(\"output1\",8,3,W,\"softmax\",Y))"
   ]
  },
  {
   "cell_type": "code",
   "execution_count": null,
   "metadata": {},
   "outputs": [],
   "source": [
    "model3.fit(X,Y,10,0.01,batch_size=1,error_threshold=0.05)"
   ]
  },
  {
   "cell_type": "code",
   "execution_count": null,
   "metadata": {},
   "outputs": [],
   "source": [
    "model3.summary()"
   ]
  },
  {
   "cell_type": "code",
   "execution_count": null,
   "metadata": {},
   "outputs": [],
   "source": [
    "\"\"\"\n",
    "{\n",
    "    \"case\": {\n",
    "        \"model\": {\n",
    "            \"input_size\": 2,\n",
    "            \"layers\": [\n",
    "                {\n",
    "                    \"number_of_neurons\": 3,\n",
    "                    \"activation_function\": \"linear\"\n",
    "                }\n",
    "            ]\n",
    "        },\n",
    "        \"input\": [\n",
    "            [3.0, 1.0],\n",
    "            [1.0, 2.0]\n",
    "        ],\n",
    "        \"initial_weights\": [\n",
    "            [\n",
    "              [0.1, 0.3, 0.2],\n",
    "              [0.4, 0.2, -0.7],\n",
    "              [0.1, -0.8, 0.5]\n",
    "            ]\n",
    "        ],\n",
    "        \"target\": [\n",
    "            [ 2.0,  0.3, -1.9],\n",
    "            [ 1.3, -0.7,  0.1]\n",
    "        ],\n",
    "        \"learning_parameters\": {\n",
    "            \"learning_rate\": 0.1,\n",
    "            \"batch_size\": 2,\n",
    "            \"max_iteration\": 2,\n",
    "            \"error_threshold\": 0.0\n",
    "        }\n",
    "    },\n",
    "    \"expect\": {\n",
    "        \"stopped_by\": \"max_iteration\",\n",
    "        \"final_weights\": [\n",
    "            [\n",
    "              [ 0.166,  0.338, 0.153],\n",
    "              [ 0.502,  0.226, -0.789],\n",
    "              [ 0.214, -0.718,  0.427]\n",
    "            ]\n",
    "        ]\n",
    "    }\n",
    "}\n",
    "\"\"\""
   ]
  },
  {
   "cell_type": "code",
   "execution_count": null,
   "metadata": {},
   "outputs": [],
   "source": [
    "model4 = Model(\"ajg\",ANN(2,3,learning_rate=0.1))\n",
    "W = np.array([\n",
    "              [0.1, 0.3, 0.2],\n",
    "              [0.4, 0.2, -0.7],\n",
    "              [0.1, -0.8, 0.5]\n",
    "            ])\n",
    "X = np.array([\n",
    "            [3.0, 1.0],\n",
    "            [1.0, 2.0]\n",
    "            ])\n",
    "Y = np.array([\n",
    "            [ 2.0,  0.3, -1.9],\n",
    "            [ 1.3, -0.7,  0.1]\n",
    "            ])\n",
    "\n",
    "model4.add(OutputLayer(\"output1\",2,3,W,\"linear\",Y))"
   ]
  },
  {
   "cell_type": "code",
   "execution_count": null,
   "metadata": {},
   "outputs": [],
   "source": [
    "model4.fit(X,Y,2,0.1,batch_size=2,error_threshold=0.0)"
   ]
  },
  {
   "cell_type": "code",
   "execution_count": null,
   "metadata": {},
   "outputs": [],
   "source": [
    "model4.summary()"
   ]
  },
  {
   "cell_type": "code",
   "execution_count": null,
   "metadata": {},
   "outputs": [],
   "source": [
    "x = np.array([1,2,2,1,3])\n",
    "#sort descending\n",
    "x.sort()"
   ]
  },
  {
   "cell_type": "code",
   "execution_count": null,
   "metadata": {},
   "outputs": [],
   "source": [
    "print(x)"
   ]
  },
  {
   "cell_type": "code",
   "execution_count": 32,
   "metadata": {},
   "outputs": [
    {
     "name": "stdout",
     "output_type": "stream",
     "text": [
      "\n",
      "\n",
      "\n"
     ]
    }
   ],
   "source": [
    "parser = BackPropParser(\"../test_case/B/softmax_two_layer.json\")"
   ]
  },
  {
   "cell_type": "code",
   "execution_count": 33,
   "metadata": {},
   "outputs": [],
   "source": [
    "the_model = parser.build_model()"
   ]
  },
  {
   "cell_type": "code",
   "execution_count": 34,
   "metadata": {},
   "outputs": [
    {
     "name": "stdout",
     "output_type": "stream",
     "text": [
      "Summary for Model: the_model\n",
      "=====================================\n",
      "Layer: hidden1 | Type: hidden | Output shape: 4\n",
      "Weights:\n",
      " [[ 0.1 -0.1  0.1 -0.1]\n",
      " [-0.1  0.1 -0.1  0.1]\n",
      " [ 0.1  0.1 -0.1 -0.1]]\n",
      "_____________________________________\n",
      "Layer: output1 | Type: output | Output shape: 2\n",
      "Weights:\n",
      " [[ 0.12 -0.1 ]\n",
      " [-0.12  0.1 ]\n",
      " [ 0.12 -0.1 ]\n",
      " [-0.12  0.1 ]\n",
      " [ 0.02  0.  ]]\n",
      "=====================================\n"
     ]
    }
   ],
   "source": [
    "the_model.summary()"
   ]
  }
 ],
 "metadata": {
  "kernelspec": {
   "display_name": "Python 3",
   "language": "python",
   "name": "python3"
  },
  "language_info": {
   "codemirror_mode": {
    "name": "ipython",
    "version": 3
   },
   "file_extension": ".py",
   "mimetype": "text/x-python",
   "name": "python",
   "nbconvert_exporter": "python",
   "pygments_lexer": "ipython3",
   "version": "3.10.13"
  }
 },
 "nbformat": 4,
 "nbformat_minor": 2
}
