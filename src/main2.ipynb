{
 "cells": [
  {
   "cell_type": "code",
   "execution_count": 1,
   "metadata": {},
   "outputs": [],
   "source": [
    "from lib import *"
   ]
  },
  {
   "cell_type": "code",
   "execution_count": 2,
   "metadata": {},
   "outputs": [],
   "source": [
    "import numpy as np"
   ]
  },
  {
   "cell_type": "code",
   "execution_count": 3,
   "metadata": {},
   "outputs": [],
   "source": [
    "W1 = np.array(\n",
    "    [[0.35, 0.35]\n",
    "     ,[0.15, 0.25]\n",
    "    ,[0.20, 0.30]]\n",
    "    )"
   ]
  },
  {
   "cell_type": "code",
   "execution_count": 4,
   "metadata": {},
   "outputs": [],
   "source": [
    "W2 = np.array(\n",
    "    [[0.60, 0.60, 0.5]\n",
    "    ,[0.40, 0.50, 0.4],\n",
    "    [0.45, 0.55, 0.2]]\n",
    "    )"
   ]
  },
  {
   "cell_type": "code",
   "execution_count": 5,
   "metadata": {},
   "outputs": [],
   "source": [
    "X = np.array([[0.05, 0.10],[0.2,0.3]])\n",
    "Y = np.array([[0, 1, 0],[0, 0, 1]])"
   ]
  },
  {
   "cell_type": "code",
   "execution_count": 6,
   "metadata": {},
   "outputs": [],
   "source": [
    "model = Model(\"ajg\",ANN(2,3))"
   ]
  },
  {
   "cell_type": "code",
   "execution_count": 7,
   "metadata": {},
   "outputs": [],
   "source": [
    "layer1 = HiddenLayer(\"hidden1\",2,2,W1,\"sigmoid\")\n",
    "layer2 = OutputLayer(\"hidden2\",2,3,W2,\"softmax\",Y)\n",
    "model.add(layer1)\n",
    "model.add(layer2)"
   ]
  },
  {
   "cell_type": "code",
   "execution_count": 8,
   "metadata": {},
   "outputs": [
    {
     "name": "stdout",
     "output_type": "stream",
     "text": [
      "Summary for Model: ajg\n",
      "=====================================\n",
      "Layer: hidden1 | Type: hidden | Output shape: 2\n",
      "Weights:\n",
      " [[0.35 0.35]\n",
      " [0.15 0.25]\n",
      " [0.2  0.3 ]]\n",
      "_____________________________________\n",
      "Layer: hidden2 | Type: output | Output shape: 3\n",
      "Weights:\n",
      " [[0.6  0.6  0.5 ]\n",
      " [0.4  0.5  0.4 ]\n",
      " [0.45 0.55 0.2 ]]\n",
      "=====================================\n"
     ]
    }
   ],
   "source": [
    "model.summary()"
   ]
  },
  {
   "cell_type": "code",
   "execution_count": 9,
   "metadata": {},
   "outputs": [
    {
     "data": {
      "text/plain": [
       "array([[0.34413991, 0.38763482, 0.26822527],\n",
       "       [0.34416353, 0.38914556, 0.2666909 ]])"
      ]
     },
     "execution_count": 9,
     "metadata": {},
     "output_type": "execute_result"
    }
   ],
   "source": [
    "model.predict(X)"
   ]
  },
  {
   "cell_type": "code",
   "execution_count": 10,
   "metadata": {},
   "outputs": [],
   "source": [
    "model.test_backward()"
   ]
  },
  {
   "cell_type": "code",
   "execution_count": 11,
   "metadata": {},
   "outputs": [
    {
     "data": {
      "text/plain": [
       "'\\ncoba testcase dari asisten buat sigmoid\\n{\\n    \"case\": {\\n        \"model\": {\\n            \"input_size\": 2,\\n            \"layers\": [\\n                {\\n                    \"number_of_neurons\": 2,\\n                    \"activation_function\": \"sigmoid\"\\n                }\\n            ]\\n        },\\n        \"input\": [\\n            [0.5, 0.0],\\n            [0.0, 0.5]\\n        ],\\n        \"initial_weights\": [\\n            [\\n              [0.3, 0.1], \\n\\t\\t  [0.2, 0.6],\\n\\t\\t  [0.8, 0.3]\\n            ]\\n        ],\\n        \"target\": [\\n            [0.0, 1.0],\\n            [1.0, 0.0]\\n        ],\\n        \"learning_parameters\": {\\n            \"learning_rate\": 0.1,\\n            \"batch_size\": 2,\\n            \"max_iteration\": 10,\\n            \"error_threshold\": 0.01\\n        }\\n    },\\n    \"expect\": {\\n        \"stopped_by\": \"max_iteration\",\\n\\t  \"final_weights\":[\\n\\t\\t [\\n\\t\\t\\t[0.2329, 0.0601],\\n\\t\\t\\t[0.1288, 0.6484],\\n\\t\\t\\t[0.8376, 0.2315]\\n\\t\\t ]\\n\\t  ]\\n    }\\n}\\n'"
      ]
     },
     "execution_count": 11,
     "metadata": {},
     "output_type": "execute_result"
    }
   ],
   "source": [
    "\"\"\"\n",
    "coba testcase dari asisten buat sigmoid\n",
    "{\n",
    "    \"case\": {\n",
    "        \"model\": {\n",
    "            \"input_size\": 2,\n",
    "            \"layers\": [\n",
    "                {\n",
    "                    \"number_of_neurons\": 2,\n",
    "                    \"activation_function\": \"sigmoid\"\n",
    "                }\n",
    "            ]\n",
    "        },\n",
    "        \"input\": [\n",
    "            [0.5, 0.0],\n",
    "            [0.0, 0.5]\n",
    "        ],\n",
    "        \"initial_weights\": [\n",
    "            [\n",
    "              [0.3, 0.1], \n",
    "\t\t  [0.2, 0.6],\n",
    "\t\t  [0.8, 0.3]\n",
    "            ]\n",
    "        ],\n",
    "        \"target\": [\n",
    "            [0.0, 1.0],\n",
    "            [1.0, 0.0]\n",
    "        ],\n",
    "        \"learning_parameters\": {\n",
    "            \"learning_rate\": 0.1,\n",
    "            \"batch_size\": 2,\n",
    "            \"max_iteration\": 10,\n",
    "            \"error_threshold\": 0.01\n",
    "        }\n",
    "    },\n",
    "    \"expect\": {\n",
    "        \"stopped_by\": \"max_iteration\",\n",
    "\t  \"final_weights\":[\n",
    "\t\t [\n",
    "\t\t\t[0.2329, 0.0601],\n",
    "\t\t\t[0.1288, 0.6484],\n",
    "\t\t\t[0.8376, 0.2315]\n",
    "\t\t ]\n",
    "\t  ]\n",
    "    }\n",
    "}\n",
    "\"\"\""
   ]
  },
  {
   "cell_type": "code",
   "execution_count": 12,
   "metadata": {},
   "outputs": [],
   "source": [
    "W = np.array([\n",
    "              [0.3, 0.1], \n",
    "\t\t    [0.2, 0.6],\n",
    "\t\t    [0.8, 0.3]\n",
    "            ])"
   ]
  },
  {
   "cell_type": "code",
   "execution_count": 13,
   "metadata": {},
   "outputs": [],
   "source": [
    "X = np.array([\n",
    "            [0.5, 0.0],\n",
    "            [0.0, 0.5]\n",
    "            ])\n",
    "Y = np.array([\n",
    "            [0.0, 1.0],\n",
    "            [1.0, 0.0]\n",
    "            ])\n"
   ]
  },
  {
   "cell_type": "code",
   "execution_count": 14,
   "metadata": {},
   "outputs": [
    {
     "name": "stdout",
     "output_type": "stream",
     "text": [
      "Summary for Model: ajg\n",
      "=====================================\n",
      "Layer: output1 | Type: output | Output shape: 2\n",
      "Weights:\n",
      " [[0.3 0.1]\n",
      " [0.2 0.6]\n",
      " [0.8 0.3]]\n",
      "=====================================\n"
     ]
    }
   ],
   "source": [
    "model2 = Model(\"ajg\",ANN(2,2,learning_rate=0.1))\n",
    "model2.add(OutputLayer(\"output1\",2,2,W,\"sigmoid\",Y))\n",
    "model2.summary()"
   ]
  },
  {
   "cell_type": "code",
   "execution_count": 15,
   "metadata": {},
   "outputs": [
    {
     "name": "stdout",
     "output_type": "stream",
     "text": [
      "Epoch 1 completed\n",
      "Loss: 0.4728101406019331\n",
      "Epoch 2 completed\n",
      "Loss: 0.47078073489758887\n",
      "Epoch 3 completed\n",
      "Loss: 0.46876757811986325\n",
      "Epoch 4 completed\n",
      "Loss: 0.4667706588834645\n",
      "Epoch 5 completed\n",
      "Loss: 0.4647899555600068\n",
      "Epoch 6 completed\n",
      "Loss: 0.4628254366344452\n",
      "Epoch 7 completed\n",
      "Loss: 0.46087706106867526\n",
      "Epoch 8 completed\n",
      "Loss: 0.45894477867098016\n",
      "Epoch 9 completed\n",
      "Loss: 0.4570285304700267\n",
      "Epoch 10 completed\n",
      "Loss: 0.4551282490921642\n"
     ]
    }
   ],
   "source": [
    "model2.fit(X,Y,10,0.1,batch_size=2,error_threshold=0.01)"
   ]
  },
  {
   "cell_type": "code",
   "execution_count": 16,
   "metadata": {},
   "outputs": [
    {
     "name": "stdout",
     "output_type": "stream",
     "text": [
      "Summary for Model: ajg\n",
      "=====================================\n",
      "Layer: output1 | Type: output | Output shape: 2\n",
      "Weights:\n",
      " [[0.23291176 0.06015346]\n",
      " [0.12884088 0.64849474]\n",
      " [0.837615   0.23158199]]\n",
      "=====================================\n"
     ]
    }
   ],
   "source": [
    "model2.summary()"
   ]
  },
  {
   "cell_type": "markdown",
   "metadata": {},
   "source": [
    "# Hasilnya sama gan"
   ]
  },
  {
   "cell_type": "code",
   "execution_count": 17,
   "metadata": {},
   "outputs": [
    {
     "data": {
      "text/plain": [
       "'\\nCoba Softmax\\n{\\n    \"case\": {\\n        \"model\": {\\n            \"input_size\": 8,\\n            \"layers\": [\\n                {\\n                    \"number_of_neurons\": 3,\\n                    \"activation_function\": \"softmax\"\\n                }\\n            ]\\n        },\\n        \"input\": [\\n            [-2.4, -2.78, -0.6, 0.37, 2.46, -0.92, 2.76, 2.62],\\n            [-1.79, 1.65, -0.77, -1.03, 0.1, 2.12, -2.36, 1.25],\\n            [1.65, 2.34, 0.27, 2.34, 0.52, 1.37, 1.77, 0.62]\\n        ],\\n        \"initial_weights\": [\\n            [\\n                [0.1, 0.9, -0.1],\\n                [-0.2, 0.8, 0.2],\\n                [0.3, -0.7, 0.3],\\n                [0.4, 0.6, -0.4],\\n                [0.5, 0.5, 0.5],\\n                [-0.6, 0.4, 0.6],\\n                [-0.7, -0.3, 0.7],\\n                [0.8, 0.2, -0.8],\\n                [0.9, -0.1, 0.0]\\n            ]\\n        ],\\n        \"target\": [\\n            [0, 1, 0],\\n            [1, 0, 0],\\n            [0, 0, 1]\\n        ],\\n        \"learning_parameters\": {\\n            \"learning_rate\": 0.01,\\n            \"batch_size\": 1,\\n            \"max_iteration\": 10,\\n            \"error_threshold\": 0.05\\n        }\\n    },\\n    \"expect\": {\\n        \"stopped_by\": \"max_iteration\",\\n        \"final_weights\": [\\n            [\\n                [ 0.12674605,  0.9149538,  -0.14169985],\\n                [-0.33551647,  0.67700488,  0.45851159],\\n                [ 0.48314436, -0.85241216,  0.2692678 ],\\n                [ 0.3400255,   0.57237542, -0.31240092],\\n                [ 0.31397716,  0.46349737,  0.72252547],\\n                [-0.69652442,  0.4789189,   0.61760552],\\n                [-0.50884515, -0.36354141,  0.57238656],\\n                [ 0.41891295,  0.26354517, -0.48245812],\\n                [ 0.90374164, -0.01759501, -0.08614663]\\n            ]\\n        ]\\n    }\\n}\\n'"
      ]
     },
     "execution_count": 17,
     "metadata": {},
     "output_type": "execute_result"
    }
   ],
   "source": [
    "\"\"\"\n",
    "Coba Softmax\n",
    "{\n",
    "    \"case\": {\n",
    "        \"model\": {\n",
    "            \"input_size\": 8,\n",
    "            \"layers\": [\n",
    "                {\n",
    "                    \"number_of_neurons\": 3,\n",
    "                    \"activation_function\": \"softmax\"\n",
    "                }\n",
    "            ]\n",
    "        },\n",
    "        \"input\": [\n",
    "            [-2.4, -2.78, -0.6, 0.37, 2.46, -0.92, 2.76, 2.62],\n",
    "            [-1.79, 1.65, -0.77, -1.03, 0.1, 2.12, -2.36, 1.25],\n",
    "            [1.65, 2.34, 0.27, 2.34, 0.52, 1.37, 1.77, 0.62]\n",
    "        ],\n",
    "        \"initial_weights\": [\n",
    "            [\n",
    "                [0.1, 0.9, -0.1],\n",
    "                [-0.2, 0.8, 0.2],\n",
    "                [0.3, -0.7, 0.3],\n",
    "                [0.4, 0.6, -0.4],\n",
    "                [0.5, 0.5, 0.5],\n",
    "                [-0.6, 0.4, 0.6],\n",
    "                [-0.7, -0.3, 0.7],\n",
    "                [0.8, 0.2, -0.8],\n",
    "                [0.9, -0.1, 0.0]\n",
    "            ]\n",
    "        ],\n",
    "        \"target\": [\n",
    "            [0, 1, 0],\n",
    "            [1, 0, 0],\n",
    "            [0, 0, 1]\n",
    "        ],\n",
    "        \"learning_parameters\": {\n",
    "            \"learning_rate\": 0.01,\n",
    "            \"batch_size\": 1,\n",
    "            \"max_iteration\": 10,\n",
    "            \"error_threshold\": 0.05\n",
    "        }\n",
    "    },\n",
    "    \"expect\": {\n",
    "        \"stopped_by\": \"max_iteration\",\n",
    "        \"final_weights\": [\n",
    "            [\n",
    "                [ 0.12674605,  0.9149538,  -0.14169985],\n",
    "                [-0.33551647,  0.67700488,  0.45851159],\n",
    "                [ 0.48314436, -0.85241216,  0.2692678 ],\n",
    "                [ 0.3400255,   0.57237542, -0.31240092],\n",
    "                [ 0.31397716,  0.46349737,  0.72252547],\n",
    "                [-0.69652442,  0.4789189,   0.61760552],\n",
    "                [-0.50884515, -0.36354141,  0.57238656],\n",
    "                [ 0.41891295,  0.26354517, -0.48245812],\n",
    "                [ 0.90374164, -0.01759501, -0.08614663]\n",
    "            ]\n",
    "        ]\n",
    "    }\n",
    "}\n",
    "\"\"\""
   ]
  },
  {
   "cell_type": "code",
   "execution_count": 18,
   "metadata": {},
   "outputs": [],
   "source": [
    "X = np.array([\n",
    "            [-2.4, -2.78, -0.6, 0.37, 2.46, -0.92, 2.76, 2.62],\n",
    "            [-1.79, 1.65, -0.77, -1.03, 0.1, 2.12, -2.36, 1.25],\n",
    "            [1.65, 2.34, 0.27, 2.34, 0.52, 1.37, 1.77, 0.62]\n",
    "        ])\n",
    "Y = np.array([\n",
    "            [0, 1, 0],\n",
    "            [1, 0, 0],\n",
    "            [0, 0, 1]\n",
    "        ])"
   ]
  },
  {
   "cell_type": "code",
   "execution_count": 19,
   "metadata": {},
   "outputs": [],
   "source": [
    "model3 = Model(\"ajg\",ANN(8,3,learning_rate=0.01))\n",
    "W = np.array([\n",
    "                [0.1, 0.9, -0.1],\n",
    "                [-0.2, 0.8, 0.2],\n",
    "                [0.3, -0.7, 0.3],\n",
    "                [0.4, 0.6, -0.4],\n",
    "                [0.5, 0.5, 0.5],\n",
    "                [-0.6, 0.4, 0.6],\n",
    "                [-0.7, -0.3, 0.7],\n",
    "                [0.8, 0.2, -0.8],\n",
    "                [0.9, -0.1, 0.0]\n",
    "            ])\n",
    "model3.add(OutputLayer(\"output1\",8,3,W,\"softmax\",Y))"
   ]
  },
  {
   "cell_type": "code",
   "execution_count": 20,
   "metadata": {},
   "outputs": [
    {
     "name": "stdout",
     "output_type": "stream",
     "text": [
      "Epoch 1 completed\n",
      "Loss: 0.7764326720561621\n",
      "Epoch 2 completed\n",
      "Loss: 0.8524736931926974\n",
      "Epoch 3 completed\n",
      "Loss: 0.9368612303795204\n",
      "Epoch 4 completed\n",
      "Loss: 0.9036143843158427\n",
      "Epoch 5 completed\n",
      "Loss: 0.7888414455351627\n",
      "Epoch 6 completed\n",
      "Loss: 0.691786872890397\n",
      "Epoch 7 completed\n",
      "Loss: 0.6100235912667268\n",
      "Epoch 8 completed\n",
      "Loss: 0.5412097014358183\n",
      "Epoch 9 completed\n",
      "Loss: 0.48323045526251013\n",
      "Epoch 10 completed\n",
      "Loss: 0.434255001220771\n"
     ]
    }
   ],
   "source": [
    "model3.fit(X,Y,10,0.01,batch_size=1,error_threshold=0.05)"
   ]
  },
  {
   "cell_type": "code",
   "execution_count": 21,
   "metadata": {},
   "outputs": [
    {
     "name": "stdout",
     "output_type": "stream",
     "text": [
      "Summary for Model: ajg\n",
      "=====================================\n",
      "Layer: output1 | Type: output | Output shape: 3\n",
      "Weights:\n",
      " [[ 0.12674605  0.9149538  -0.14169985]\n",
      " [-0.33551647  0.67700488  0.45851159]\n",
      " [ 0.48314436 -0.85241216  0.2692678 ]\n",
      " [ 0.3400255   0.57237542 -0.31240092]\n",
      " [ 0.31397716  0.46349737  0.72252547]\n",
      " [-0.69652442  0.4789189   0.61760552]\n",
      " [-0.50884515 -0.36354141  0.57238656]\n",
      " [ 0.41891295  0.26354517 -0.48245812]\n",
      " [ 0.90374164 -0.01759501 -0.08614663]]\n",
      "=====================================\n"
     ]
    }
   ],
   "source": [
    "model3.summary()"
   ]
  },
  {
   "cell_type": "code",
   "execution_count": 22,
   "metadata": {},
   "outputs": [
    {
     "data": {
      "text/plain": [
       "'\\n{\\n    \"case\": {\\n        \"model\": {\\n            \"input_size\": 2,\\n            \"layers\": [\\n                {\\n                    \"number_of_neurons\": 3,\\n                    \"activation_function\": \"linear\"\\n                }\\n            ]\\n        },\\n        \"input\": [\\n            [3.0, 1.0],\\n            [1.0, 2.0]\\n        ],\\n        \"initial_weights\": [\\n            [\\n              [0.1, 0.3, 0.2],\\n              [0.4, 0.2, -0.7],\\n              [0.1, -0.8, 0.5]\\n            ]\\n        ],\\n        \"target\": [\\n            [ 2.0,  0.3, -1.9],\\n            [ 1.3, -0.7,  0.1]\\n        ],\\n        \"learning_parameters\": {\\n            \"learning_rate\": 0.1,\\n            \"batch_size\": 2,\\n            \"max_iteration\": 2,\\n            \"error_threshold\": 0.0\\n        }\\n    },\\n    \"expect\": {\\n        \"stopped_by\": \"max_iteration\",\\n        \"final_weights\": [\\n            [\\n              [ 0.166,  0.338, 0.153],\\n              [ 0.502,  0.226, -0.789],\\n              [ 0.214, -0.718,  0.427]\\n            ]\\n        ]\\n    }\\n}\\n'"
      ]
     },
     "execution_count": 22,
     "metadata": {},
     "output_type": "execute_result"
    }
   ],
   "source": [
    "\"\"\"\n",
    "{\n",
    "    \"case\": {\n",
    "        \"model\": {\n",
    "            \"input_size\": 2,\n",
    "            \"layers\": [\n",
    "                {\n",
    "                    \"number_of_neurons\": 3,\n",
    "                    \"activation_function\": \"linear\"\n",
    "                }\n",
    "            ]\n",
    "        },\n",
    "        \"input\": [\n",
    "            [3.0, 1.0],\n",
    "            [1.0, 2.0]\n",
    "        ],\n",
    "        \"initial_weights\": [\n",
    "            [\n",
    "              [0.1, 0.3, 0.2],\n",
    "              [0.4, 0.2, -0.7],\n",
    "              [0.1, -0.8, 0.5]\n",
    "            ]\n",
    "        ],\n",
    "        \"target\": [\n",
    "            [ 2.0,  0.3, -1.9],\n",
    "            [ 1.3, -0.7,  0.1]\n",
    "        ],\n",
    "        \"learning_parameters\": {\n",
    "            \"learning_rate\": 0.1,\n",
    "            \"batch_size\": 2,\n",
    "            \"max_iteration\": 2,\n",
    "            \"error_threshold\": 0.0\n",
    "        }\n",
    "    },\n",
    "    \"expect\": {\n",
    "        \"stopped_by\": \"max_iteration\",\n",
    "        \"final_weights\": [\n",
    "            [\n",
    "              [ 0.166,  0.338, 0.153],\n",
    "              [ 0.502,  0.226, -0.789],\n",
    "              [ 0.214, -0.718,  0.427]\n",
    "            ]\n",
    "        ]\n",
    "    }\n",
    "}\n",
    "\"\"\""
   ]
  },
  {
   "cell_type": "code",
   "execution_count": 23,
   "metadata": {},
   "outputs": [],
   "source": [
    "model4 = Model(\"ajg\",ANN(2,3,learning_rate=0.1))\n",
    "W = np.array([\n",
    "              [0.1, 0.3, 0.2],\n",
    "              [0.4, 0.2, -0.7],\n",
    "              [0.1, -0.8, 0.5]\n",
    "            ])\n",
    "X = np.array([\n",
    "            [3.0, 1.0],\n",
    "            [1.0, 2.0]\n",
    "            ])\n",
    "Y = np.array([\n",
    "            [ 2.0,  0.3, -1.9],\n",
    "            [ 1.3, -0.7,  0.1]\n",
    "            ])\n",
    "\n",
    "model4.add(OutputLayer(\"output1\",2,3,W,\"linear\",Y))"
   ]
  },
  {
   "cell_type": "code",
   "execution_count": 24,
   "metadata": {},
   "outputs": [
    {
     "name": "stdout",
     "output_type": "stream",
     "text": [
      "Epoch 1 completed\n",
      "Loss: 0.665\n",
      "Epoch 2 completed\n",
      "Loss: 0.1818499999999999\n"
     ]
    }
   ],
   "source": [
    "model4.fit(X,Y,2,0.1,batch_size=2,error_threshold=0.0)"
   ]
  },
  {
   "cell_type": "code",
   "execution_count": 25,
   "metadata": {},
   "outputs": [
    {
     "name": "stdout",
     "output_type": "stream",
     "text": [
      "Summary for Model: ajg\n",
      "=====================================\n",
      "Layer: output1 | Type: output | Output shape: 3\n",
      "Weights:\n",
      " [[ 0.166  0.338  0.153]\n",
      " [ 0.502  0.226 -0.789]\n",
      " [ 0.214 -0.718  0.427]]\n",
      "=====================================\n"
     ]
    }
   ],
   "source": [
    "model4.summary()"
   ]
  },
  {
   "cell_type": "code",
   "execution_count": 26,
   "metadata": {},
   "outputs": [],
   "source": [
    "x = np.array([1,2,2,1,3])\n",
    "#sort descending\n",
    "x.sort()"
   ]
  },
  {
   "cell_type": "code",
   "execution_count": 27,
   "metadata": {},
   "outputs": [
    {
     "name": "stdout",
     "output_type": "stream",
     "text": [
      "[1 1 2 2 3]\n"
     ]
    }
   ],
   "source": [
    "print(x)"
   ]
  },
  {
   "cell_type": "code",
   "execution_count": 28,
   "metadata": {},
   "outputs": [
    {
     "name": "stdout",
     "output_type": "stream",
     "text": [
      "\n",
      "\n",
      "\n"
     ]
    }
   ],
   "source": [
    "parser = BackPropParser(\"../test_case/B/softmax_two_layer.json\")"
   ]
  },
  {
   "cell_type": "code",
   "execution_count": 29,
   "metadata": {},
   "outputs": [],
   "source": [
    "the_model = parser.build_model()"
   ]
  },
  {
   "cell_type": "code",
   "execution_count": 30,
   "metadata": {},
   "outputs": [
    {
     "name": "stdout",
     "output_type": "stream",
     "text": [
      "Summary for Model: the_model\n",
      "=====================================\n",
      "Layer: hidden1 | Type: hidden | Output shape: 4\n",
      "Weights:\n",
      " [[ 0.1 -0.1  0.1 -0.1]\n",
      " [-0.1  0.1 -0.1  0.1]\n",
      " [ 0.1  0.1 -0.1 -0.1]]\n",
      "_____________________________________\n",
      "Layer: output1 | Type: output | Output shape: 2\n",
      "Weights:\n",
      " [[ 0.12 -0.1 ]\n",
      " [-0.12  0.1 ]\n",
      " [ 0.12 -0.1 ]\n",
      " [-0.12  0.1 ]\n",
      " [ 0.02  0.  ]]\n",
      "=====================================\n"
     ]
    }
   ],
   "source": [
    "the_model.summary()"
   ]
  },
  {
   "cell_type": "code",
   "execution_count": 31,
   "metadata": {},
   "outputs": [
    {
     "name": "stdout",
     "output_type": "stream",
     "text": [
      "Epoch 1 completed\n",
      "Loss: 0.5373204376057451\n",
      "Epoch 2 completed\n",
      "Loss: 0.5764750550974945\n",
      "Epoch 3 completed\n",
      "Loss: 0.5866724537449856\n",
      "Epoch 4 completed\n",
      "Loss: 0.5924850217336046\n",
      "Epoch 5 completed\n",
      "Loss: 0.5950952952277749\n",
      "Epoch 6 completed\n",
      "Loss: 0.596135811669747\n",
      "Epoch 7 completed\n",
      "Loss: 0.6032588716576845\n",
      "Epoch 8 completed\n",
      "Loss: 0.6149550370345411\n",
      "Epoch 9 completed\n",
      "Loss: 0.44171088270437264\n",
      "Epoch 10 completed\n",
      "Loss: 0.6118724924074335\n",
      "Epoch 11 completed\n",
      "Loss: 0.6855732856517186\n",
      "Epoch 12 completed\n",
      "Loss: 0.49521778183116266\n",
      "Epoch 13 completed\n",
      "Loss: 0.6191389708913244\n",
      "Epoch 14 completed\n",
      "Loss: 0.5973996000332381\n",
      "Epoch 15 completed\n",
      "Loss: 0.6205555059398409\n",
      "Epoch 16 completed\n",
      "Loss: 0.4955160162014169\n",
      "Epoch 17 completed\n",
      "Loss: 0.4687994716171042\n",
      "Epoch 18 completed\n",
      "Loss: 0.4355354052280589\n",
      "Epoch 19 completed\n",
      "Loss: 0.4011620399222183\n",
      "Epoch 20 completed\n",
      "Loss: 0.36957753444468167\n",
      "Epoch 21 completed\n",
      "Loss: 0.3405115451881581\n",
      "Epoch 22 completed\n",
      "Loss: 0.31777320078567883\n",
      "Epoch 23 completed\n",
      "Loss: 0.2875764098823323\n",
      "Epoch 24 completed\n",
      "Loss: 0.2680033616864594\n",
      "Epoch 25 completed\n",
      "Loss: 0.2506203031927025\n",
      "Epoch 26 completed\n",
      "Loss: 0.23478699896137964\n",
      "Epoch 27 completed\n",
      "Loss: 0.22042542220668282\n",
      "Epoch 28 completed\n",
      "Loss: 0.20754497143620074\n",
      "Epoch 29 completed\n",
      "Loss: 0.19588727970849865\n",
      "Epoch 30 completed\n",
      "Loss: 0.18523598760738086\n",
      "Epoch 31 completed\n",
      "Loss: 0.17559967131340365\n",
      "Epoch 32 completed\n",
      "Loss: 0.1668006462348999\n",
      "Epoch 33 completed\n",
      "Loss: 0.15872154508733913\n",
      "Epoch 34 completed\n",
      "Loss: 0.1513432753712885\n",
      "Epoch 35 completed\n",
      "Loss: 0.14455630570859349\n",
      "Epoch 36 completed\n",
      "Loss: 0.1382821450989628\n",
      "Epoch 37 completed\n",
      "Loss: 0.13250203618628853\n",
      "Epoch 38 completed\n",
      "Loss: 0.1271461826180293\n",
      "Epoch 39 completed\n",
      "Loss: 0.12216448536781949\n",
      "Epoch 40 completed\n",
      "Loss: 0.11754029987499173\n",
      "Epoch 41 completed\n",
      "Loss: 0.11322735099332512\n",
      "Epoch 42 completed\n",
      "Loss: 0.1092027110277574\n",
      "Epoch 43 completed\n",
      "Loss: 0.10542440863730405\n",
      "Epoch 44 completed\n",
      "Loss: 0.10227558340871316\n",
      "Epoch 45 completed\n",
      "Loss: 0.09828372864404816\n",
      "Epoch 46 completed\n",
      "Loss: 0.09503961333838892\n",
      "Epoch 47 completed\n",
      "Loss: 0.09205614141330583\n",
      "Epoch 48 completed\n",
      "Loss: 0.08926936544210903\n",
      "Epoch 49 completed\n",
      "Loss: 0.08665700352625282\n",
      "Epoch 50 completed\n",
      "Loss: 0.08419312780935331\n",
      "Epoch 51 completed\n",
      "Loss: 0.0818636638048195\n",
      "Epoch 52 completed\n",
      "Loss: 0.07965125674805947\n",
      "Epoch 53 completed\n",
      "Loss: 0.07755309340347255\n",
      "Epoch 54 completed\n",
      "Loss: 0.07555889126254603\n",
      "Epoch 55 completed\n",
      "Loss: 0.07365953394363628\n",
      "Epoch 56 completed\n",
      "Loss: 0.07184950243202763\n",
      "Epoch 57 completed\n",
      "Loss: 0.07011976329648317\n",
      "Epoch 58 completed\n",
      "Loss: 0.06846917367075288\n",
      "Epoch 59 completed\n",
      "Loss: 0.06689176695301402\n",
      "Epoch 60 completed\n",
      "Loss: 0.06538201078739918\n",
      "Epoch 61 completed\n",
      "Loss: 0.06393616403085894\n",
      "Epoch 62 completed\n",
      "Loss: 0.06254874593359439\n",
      "Epoch 63 completed\n",
      "Loss: 0.06121876579241965\n",
      "Epoch 64 completed\n",
      "Loss: 0.05994232902603161\n",
      "Epoch 65 completed\n",
      "Loss: 0.05871583565110727\n",
      "Epoch 66 completed\n",
      "Loss: 0.05753669187597173\n",
      "Epoch 67 completed\n",
      "Loss: 0.05640232500582013\n",
      "Epoch 68 completed\n",
      "Loss: 0.05530890766348872\n",
      "Epoch 69 completed\n",
      "Loss: 0.05425606145688946\n",
      "Epoch 70 completed\n",
      "Loss: 0.053241381021282216\n",
      "Epoch 71 completed\n",
      "Loss: 0.05398363723211714\n",
      "Epoch 72 completed\n",
      "Loss: 0.05125247466857573\n",
      "Epoch 73 completed\n",
      "Loss: 0.050307688202911136\n",
      "Epoch 74 completed\n",
      "Loss: 0.04940570422010504\n",
      "Epoch 75 completed\n",
      "Loss: 0.04854088141254294\n",
      "Epoch 76 completed\n",
      "Loss: 0.047708561446901145\n",
      "Epoch 77 completed\n",
      "Loss: 0.04690690171143291\n",
      "Epoch 78 completed\n",
      "Loss: 0.046133290938479045\n",
      "Epoch 79 completed\n",
      "Loss: 0.04538549068380986\n",
      "Epoch 80 completed\n",
      "Loss: 0.044661975857649215\n",
      "Epoch 81 completed\n",
      "Loss: 0.04396131620505314\n",
      "Epoch 82 completed\n",
      "Loss: 0.04328160133344376\n",
      "Epoch 83 completed\n",
      "Loss: 0.042622632903152144\n",
      "Epoch 84 completed\n",
      "Loss: 0.041983290125754635\n",
      "Epoch 85 completed\n",
      "Loss: 0.041362583604865576\n",
      "Epoch 86 completed\n",
      "Loss: 0.04075963875918223\n",
      "Epoch 87 completed\n",
      "Loss: 0.04017354773867651\n",
      "Epoch 88 completed\n",
      "Loss: 0.03960370668414378\n",
      "Epoch 89 completed\n",
      "Loss: 0.039049416308815595\n",
      "Epoch 90 completed\n",
      "Loss: 0.03851009328650252\n",
      "Epoch 91 completed\n",
      "Loss: 0.03798465482487084\n",
      "Epoch 92 completed\n",
      "Loss: 0.03747314812231546\n",
      "Epoch 93 completed\n",
      "Loss: 0.0369749796031083\n",
      "Epoch 94 completed\n",
      "Loss: 0.03648960251264188\n",
      "Epoch 95 completed\n",
      "Loss: 0.03601651646724474\n",
      "Epoch 96 completed\n",
      "Loss: 0.03555518235766273\n",
      "Epoch 97 completed\n",
      "Loss: 0.03589393164354302\n",
      "Epoch 98 completed\n",
      "Loss: 0.0346445200295998\n",
      "Epoch 99 completed\n",
      "Loss: 0.03420348333307394\n",
      "Epoch 100 completed\n",
      "Loss: 0.03377592852070784\n",
      "Epoch 101 completed\n",
      "Loss: 0.033360649206210305\n",
      "Epoch 102 completed\n",
      "Loss: 0.032956807554114814\n",
      "Epoch 103 completed\n",
      "Loss: 0.03256334301397816\n",
      "Epoch 104 completed\n",
      "Loss: 0.032179967428140215\n",
      "Epoch 105 completed\n",
      "Loss: 0.0318060919829367\n",
      "Epoch 106 completed\n",
      "Loss: 0.03144121057966336\n",
      "Epoch 107 completed\n",
      "Loss: 0.031084887576014048\n",
      "Epoch 108 completed\n",
      "Loss: 0.030736686447677217\n",
      "Epoch 109 completed\n",
      "Loss: 0.03039631786151046\n",
      "Epoch 110 completed\n",
      "Loss: 0.03006346330020291\n",
      "Epoch 111 completed\n",
      "Loss: 0.029737843726789726\n",
      "Epoch 112 completed\n",
      "Loss: 0.02941899815072552\n",
      "Epoch 113 completed\n",
      "Loss: 0.02910694150674349\n",
      "Epoch 114 completed\n",
      "Loss: 0.028801425503728932\n",
      "Epoch 115 completed\n",
      "Loss: 0.028502220708987613\n",
      "Epoch 116 completed\n",
      "Loss: 0.028209113700824694\n",
      "Epoch 117 completed\n",
      "Loss: 0.02792190480746306\n",
      "Epoch 118 completed\n",
      "Loss: 0.027640406298567236\n",
      "Epoch 119 completed\n",
      "Loss: 0.027364442340518727\n",
      "Epoch 120 completed\n",
      "Loss: 0.027093817923564335\n",
      "Epoch 121 completed\n",
      "Loss: 0.026828408978752265\n",
      "Epoch 122 completed\n",
      "Loss: 0.02672458128594836\n",
      "Epoch 123 completed\n",
      "Loss: 0.026304227803675802\n",
      "Epoch 124 completed\n",
      "Loss: 0.02604734635071058\n",
      "Epoch 125 completed\n",
      "Loss: 0.025796366437974453\n",
      "Epoch 126 completed\n",
      "Loss: 0.025550919511105073\n",
      "Epoch 127 completed\n",
      "Loss: 0.025310666780680016\n",
      "Epoch 128 completed\n",
      "Loss: 0.025075362566187354\n",
      "Epoch 129 completed\n",
      "Loss: 0.024844768787624354\n",
      "Epoch 130 completed\n",
      "Loss: 0.024618562581547977\n",
      "Epoch 131 completed\n",
      "Loss: 0.024396699894610206\n",
      "Epoch 132 completed\n",
      "Loss: 0.024179002856440084\n",
      "Epoch 133 completed\n",
      "Loss: 0.02396531138425956\n",
      "Epoch 134 completed\n",
      "Loss: 0.02375548026998844\n",
      "Epoch 135 completed\n",
      "Loss: 0.023549376825109134\n",
      "Epoch 136 completed\n",
      "Loss: 0.023346878969851537\n",
      "Epoch 137 completed\n",
      "Loss: 0.0231478738168041\n",
      "Epoch 138 completed\n",
      "Loss: 0.02295224042680897\n",
      "Epoch 139 completed\n",
      "Loss: 0.02275990120602889\n",
      "Epoch 140 completed\n",
      "Loss: 0.022570762459528177\n",
      "Epoch 141 completed\n",
      "Loss: 0.022384735856244613\n",
      "Epoch 142 completed\n",
      "Loss: 0.022201737802811518\n",
      "Epoch 143 completed\n",
      "Loss: 0.022021688921272126\n",
      "Epoch 144 completed\n",
      "Loss: 0.02184451361124335\n",
      "Epoch 145 completed\n",
      "Loss: 0.021670139680917102\n",
      "Epoch 146 completed\n",
      "Loss: 0.02149849896670967\n",
      "Epoch 147 completed\n",
      "Loss: 0.021341786875595844\n",
      "Epoch 148 completed\n",
      "Loss: 0.021158872781936146\n",
      "Epoch 149 completed\n",
      "Loss: 0.020991569910686476\n",
      "Epoch 150 completed\n",
      "Loss: 0.020827327940527857\n",
      "Epoch 151 completed\n",
      "Loss: 0.020665999081412898\n",
      "Epoch 152 completed\n",
      "Loss: 0.020507438822847078\n",
      "Epoch 153 completed\n",
      "Loss: 0.0203515449932766\n",
      "Epoch 154 completed\n",
      "Loss: 0.020198213228113007\n",
      "Epoch 155 completed\n",
      "Loss: 0.02004728815382539\n",
      "Epoch 156 completed\n",
      "Loss: 0.019898758561349632\n",
      "Epoch 157 completed\n",
      "Loss: 0.019752542257217422\n",
      "Epoch 158 completed\n",
      "Loss: 0.019608564015232713\n",
      "Epoch 159 completed\n",
      "Loss: 0.019466754610253618\n",
      "Epoch 160 completed\n",
      "Loss: 0.019327050008651436\n",
      "Epoch 161 completed\n",
      "Loss: 0.01918939068835436\n",
      "Epoch 162 completed\n",
      "Loss: 0.019053721066335693\n",
      "Epoch 163 completed\n",
      "Loss: 0.018919989015374526\n",
      "Epoch 164 completed\n",
      "Loss: 0.018788145455125645\n",
      "Epoch 165 completed\n",
      "Loss: 0.018658144005159787\n",
      "Epoch 166 completed\n",
      "Loss: 0.018529940689758977\n",
      "Epoch 167 completed\n",
      "Loss: 0.018403493686022166\n",
      "Epoch 168 completed\n",
      "Loss: 0.018278763261769915\n",
      "Epoch 169 completed\n",
      "Loss: 0.01815570329171584\n",
      "Epoch 170 completed\n",
      "Loss: 0.018034287190286293\n",
      "Epoch 171 completed\n",
      "Loss: 0.017914479529327662\n",
      "Epoch 172 completed\n",
      "Loss: 0.017796246266555384\n",
      "Epoch 173 completed\n",
      "Loss: 0.01788794724286202\n",
      "Epoch 174 completed\n",
      "Loss: 0.017561210934706122\n",
      "Epoch 175 completed\n",
      "Loss: 0.01744540780817357\n",
      "Epoch 176 completed\n",
      "Loss: 0.017331309069065225\n",
      "Epoch 177 completed\n",
      "Loss: 0.0172188948020462\n",
      "Epoch 178 completed\n",
      "Loss: 0.01710810210967534\n",
      "Epoch 179 completed\n",
      "Loss: 0.016998873823879206\n",
      "Epoch 180 completed\n",
      "Loss: 0.016891157749679715\n",
      "Epoch 181 completed\n",
      "Loss: 0.016784906021995973\n",
      "Epoch 182 completed\n",
      "Loss: 0.016680074700169786\n",
      "Epoch 183 completed\n",
      "Loss: 0.01657661681286541\n",
      "Epoch 184 completed\n",
      "Loss: 0.016474502042038628\n",
      "Epoch 185 completed\n",
      "Loss: 0.0163736948711079\n",
      "Epoch 186 completed\n",
      "Loss: 0.016274162081518943\n",
      "Epoch 187 completed\n",
      "Loss: 0.016175872492681768\n",
      "Epoch 188 completed\n",
      "Loss: 0.016078796737427004\n",
      "Epoch 189 completed\n",
      "Loss: 0.015982907067772875\n",
      "Epoch 190 completed\n",
      "Loss: 0.015888177186606442\n",
      "Epoch 191 completed\n",
      "Loss: 0.01579458210154316\n",
      "Epoch 192 completed\n",
      "Loss: 0.015702097997793648\n",
      "Epoch 193 completed\n",
      "Loss: 0.015610702127341856\n",
      "Epoch 194 completed\n",
      "Loss: 0.015520372712137588\n",
      "Epoch 195 completed\n",
      "Loss: 0.015431088859344506\n",
      "Epoch 196 completed\n",
      "Loss: 0.015342830486972029\n",
      "Epoch 197 completed\n",
      "Loss: 0.015255578258462474\n",
      "Epoch 198 completed\n",
      "Loss: 0.015205694574773375\n",
      "Epoch 199 completed\n",
      "Loss: 0.015082335455836263\n",
      "Epoch 200 completed\n",
      "Loss: 0.01499658092942113\n"
     ]
    }
   ],
   "source": [
    "the_model.fit(parser.input, parser.target, parser.max_iteration, parser.learning_rate, parser.batch_size, error_threshold=parser.error_threshold)"
   ]
  },
  {
   "cell_type": "code",
   "execution_count": 32,
   "metadata": {},
   "outputs": [
    {
     "name": "stdout",
     "output_type": "stream",
     "text": [
      "Summary for Model: the_model\n",
      "=====================================\n",
      "Layer: hidden1 | Type: hidden | Output shape: 4\n",
      "Weights:\n",
      " [[-0.30664229 -0.30743407 -0.75083721  0.46761906]\n",
      " [-0.60712867 -1.26135084 -1.40813286  0.7494286 ]\n",
      " [-0.43662092  1.62086641 -1.03021949 -1.41169749]]\n",
      "_____________________________________\n",
      "Layer: output1 | Type: output | Output shape: 2\n",
      "Weights:\n",
      " [[-2.08770116  2.10770116]\n",
      " [-0.53469182  0.51469182]\n",
      " [ 1.36056137 -1.34056137]\n",
      " [-1.24336909  1.22336909]\n",
      " [ 1.18190302 -1.16190302]]\n",
      "=====================================\n"
     ]
    }
   ],
   "source": [
    "the_model.summary()"
   ]
  },
  {
   "cell_type": "code",
   "execution_count": 33,
   "metadata": {},
   "outputs": [
    {
     "data": {
      "text/plain": [
       "[<matplotlib.lines.Line2D at 0x24fa58ec880>]"
      ]
     },
     "execution_count": 33,
     "metadata": {},
     "output_type": "execute_result"
    },
    {
     "data": {
      "image/png": "[encoded data removed]",
      "text/plain": [
       "<Figure size 640x480 with 1 Axes>"
      ]
     },
     "metadata": {},
     "output_type": "display_data"
    }
   ],
   "source": [
    "import matplotlib.pyplot as plt\n",
    "loss = the_model.loses\n",
    "\n",
    "plt.plot(loss)"
   ]
  }
 ],
 "metadata": {
  "kernelspec": {
   "display_name": "Python 3",
   "language": "python",
   "name": "python3"
  },
  "language_info": {
   "codemirror_mode": {
    "name": "ipython",
    "version": 3
   },
   "file_extension": ".py",
   "mimetype": "text/x-python",
   "name": "python",
   "nbconvert_exporter": "python",
   "pygments_lexer": "ipython3",
   "version": "3.10.11"
  }
 },
 "nbformat": 4,
 "nbformat_minor": 2
}
