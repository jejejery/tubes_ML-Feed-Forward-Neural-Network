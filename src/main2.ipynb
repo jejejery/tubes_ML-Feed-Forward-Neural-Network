{
 "cells": [
  {
   "cell_type": "code",
   "execution_count": 1,
   "metadata": {},
   "outputs": [],
   "source": [
    "from lib import *"
   ]
  },
  {
   "cell_type": "code",
   "execution_count": 2,
   "metadata": {},
   "outputs": [],
   "source": [
    "import numpy as np"
   ]
  },
  {
   "cell_type": "code",
   "execution_count": 3,
   "metadata": {},
   "outputs": [],
   "source": [
    "W1 = np.array(\n",
    "    [[0.35, 0.35]\n",
    "     ,[0.15, 0.25]\n",
    "    ,[0.20, 0.30]]\n",
    "    )"
   ]
  },
  {
   "cell_type": "code",
   "execution_count": 4,
   "metadata": {},
   "outputs": [],
   "source": [
    "W2 = np.array(\n",
    "    [[0.60, 0.60, 0.5]\n",
    "    ,[0.40, 0.50, 0.4],\n",
    "    [0.45, 0.55, 0.2]]\n",
    "    )"
   ]
  },
  {
   "cell_type": "code",
   "execution_count": 5,
   "metadata": {},
   "outputs": [],
   "source": [
    "X = np.array([[0.05, 0.10],[0.2,0.3]])\n",
    "Y = np.array([[0, 1, 0],[0, 0, 1]])"
   ]
  },
  {
   "cell_type": "code",
   "execution_count": 6,
   "metadata": {},
   "outputs": [],
   "source": [
    "model = Model(\"ajg\",ANN(2,3))"
   ]
  },
  {
   "cell_type": "code",
   "execution_count": 7,
   "metadata": {},
   "outputs": [],
   "source": [
    "layer1 = HiddenLayer(\"hidden1\",2,2,W1,\"sigmoid\")\n",
    "layer2 = OutputLayer(\"hidden2\",2,3,W2,\"softmax\",Y)\n",
    "model.add(layer1)\n",
    "model.add(layer2)"
   ]
  },
  {
   "cell_type": "code",
   "execution_count": 8,
   "metadata": {},
   "outputs": [
    {
     "name": "stdout",
     "output_type": "stream",
     "text": [
      "Summary for Model: ajg\n",
      "=====================================\n",
      "Layer: hidden1 | Type: hidden | Output shape: 2\n",
      "Weights:\n",
      " [[0.35 0.35]\n",
      " [0.15 0.25]\n",
      " [0.2  0.3 ]]\n",
      "_____________________________________\n",
      "Layer: hidden2 | Type: output | Output shape: 3\n",
      "Weights:\n",
      " [[0.6  0.6  0.5 ]\n",
      " [0.4  0.5  0.4 ]\n",
      " [0.45 0.55 0.2 ]]\n",
      "=====================================\n"
     ]
    }
   ],
   "source": [
    "model.summary()"
   ]
  },
  {
   "cell_type": "code",
   "execution_count": 9,
   "metadata": {},
   "outputs": [
    {
     "data": {
      "text/plain": [
       "array([[0.34413991, 0.38763482, 0.26822527],\n",
       "       [0.34416353, 0.38914556, 0.2666909 ]])"
      ]
     },
     "execution_count": 9,
     "metadata": {},
     "output_type": "execute_result"
    }
   ],
   "source": [
    "model.predict(X)"
   ]
  },
  {
   "cell_type": "code",
   "execution_count": 10,
   "metadata": {},
   "outputs": [],
   "source": [
    "model.test_backward()"
   ]
  },
  {
   "cell_type": "code",
   "execution_count": null,
   "metadata": {},
   "outputs": [],
   "source": []
  },
  {
   "cell_type": "code",
   "execution_count": 11,
   "metadata": {},
   "outputs": [],
   "source": [
    "W = np.array([[0.35, 0.35],\n",
    "              [0.15, 0.25],\n",
    "              [0.20, 0.30]])"
   ]
  },
  {
   "cell_type": "code",
   "execution_count": 12,
   "metadata": {},
   "outputs": [],
   "source": [
    "X = np.array([[0.3, 0.05]\n",
    "              ,[0.003, 0.02],\n",
    "              [0.00005, 0.025]])\n",
    "Y = np.array([[1,0],[0,1],[1,0]])\n"
   ]
  },
  {
   "cell_type": "code",
   "execution_count": 18,
   "metadata": {},
   "outputs": [
    {
     "name": "stdout",
     "output_type": "stream",
     "text": [
      "Summary for Model: ajg\n",
      "=====================================\n",
      "Layer: output | Type: output | Output shape: 2\n",
      "Weights:\n",
      " [[0.35 0.35]\n",
      " [0.15 0.25]\n",
      " [0.2  0.3 ]]\n",
      "=====================================\n"
     ]
    }
   ],
   "source": [
    "model2 = Model(\"ajg\",ANN(2,2))\n",
    "model2.add(OutputLayer(\"output\",2,2,W,\"softmax\",Y))\n",
    "model2.summary()"
   ]
  },
  {
   "cell_type": "code",
   "execution_count": 19,
   "metadata": {},
   "outputs": [],
   "source": [
    "losses = [] \n",
    "for i in range(1000):\n",
    "    model2.predict(X)\n",
    "    model2.test_backward()\n",
    "    losses.append(model2.ann.layers[-1].loss)\n",
    "    "
   ]
  },
  {
   "cell_type": "code",
   "execution_count": 20,
   "metadata": {},
   "outputs": [
    {
     "data": {
      "text/plain": [
       "[<matplotlib.lines.Line2D at 0x254cd5dc850>]"
      ]
     },
     "execution_count": 20,
     "metadata": {},
     "output_type": "execute_result"
    },
    {
     "data": {
      "image/png": "[encoded data removed]",
      "text/plain": [
       "<Figure size 640x480 with 1 Axes>"
      ]
     },
     "metadata": {},
     "output_type": "display_data"
    }
   ],
   "source": [
    "import matplotlib.pyplot as plt\n",
    "# give it a name\n",
    "plt.title(\"Loss over iterations\")\n",
    "# name x axis\n",
    "plt.xlabel(\"Iterations\")\n",
    "# name y axis\n",
    "plt.ylabel(\"Loss\")\n",
    "# plot the data\n",
    "plt.plot(losses)"
   ]
  },
  {
   "cell_type": "markdown",
   "metadata": {},
   "source": [
    "knp loss nya gitu wkwkwk"
   ]
  },
  {
   "cell_type": "code",
   "execution_count": 21,
   "metadata": {},
   "outputs": [
    {
     "name": "stdout",
     "output_type": "stream",
     "text": [
      "Summary for Model: ajg\n",
      "=====================================\n",
      "Layer: output | Type: output | Output shape: 2\n",
      "Weights:\n",
      " [[ 0.61957339  0.08042661]\n",
      " [ 1.04616956 -0.64616956]\n",
      " [ 0.31496967  0.18503033]]\n",
      "=====================================\n"
     ]
    }
   ],
   "source": [
    "model2.summary()"
   ]
  }
 ],
 "metadata": {
  "kernelspec": {
   "display_name": "Python 3",
   "language": "python",
   "name": "python3"
  },
  "language_info": {
   "codemirror_mode": {
    "name": "ipython",
    "version": 3
   },
   "file_extension": ".py",
   "mimetype": "text/x-python",
   "name": "python",
   "nbconvert_exporter": "python",
   "pygments_lexer": "ipython3",
   "version": "3.10.11"
  }
 },
 "nbformat": 4,
 "nbformat_minor": 2
}
