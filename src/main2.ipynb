{
 "cells": [
  {
   "cell_type": "code",
   "execution_count": 1,
   "metadata": {},
   "outputs": [],
   "source": [
    "from lib import *"
   ]
  },
  {
   "cell_type": "code",
   "execution_count": 2,
   "metadata": {},
   "outputs": [],
   "source": [
    "import numpy as np"
   ]
  },
  {
   "cell_type": "code",
   "execution_count": 3,
   "metadata": {},
   "outputs": [],
   "source": [
    "W1 = np.array(\n",
    "    [[0.35, 0.35]\n",
    "     ,[0.15, 0.25]\n",
    "    ,[0.20, 0.30]]\n",
    "    )"
   ]
  },
  {
   "cell_type": "code",
   "execution_count": 4,
   "metadata": {},
   "outputs": [],
   "source": [
    "W2 = np.array(\n",
    "    [[0.60, 0.60, 0.5]\n",
    "    ,[0.40, 0.50, 0.4],\n",
    "    [0.45, 0.55, 0.2]]\n",
    "    )"
   ]
  },
  {
   "cell_type": "code",
   "execution_count": 5,
   "metadata": {},
   "outputs": [],
   "source": [
    "X = np.array([[0.05, 0.10],[0.2,0.3]])\n",
    "Y = np.array([[0, 1, 0],[0, 0, 1]])"
   ]
  },
  {
   "cell_type": "code",
   "execution_count": 6,
   "metadata": {},
   "outputs": [],
   "source": [
    "model = Model(\"ajg\",ANN(2,3))"
   ]
  },
  {
   "cell_type": "code",
   "execution_count": 7,
   "metadata": {},
   "outputs": [],
   "source": [
    "layer1 = HiddenLayer(\"hidden1\",2,2,W1,\"sigmoid\")\n",
    "layer2 = OutputLayer(\"hidden2\",2,3,W2,\"softmax\",Y)\n",
    "model.add(layer1)\n",
    "model.add(layer2)"
   ]
  },
  {
   "cell_type": "code",
   "execution_count": 8,
   "metadata": {},
   "outputs": [
    {
     "name": "stdout",
     "output_type": "stream",
     "text": [
      "Summary for Model: ajg\n",
      "=====================================\n",
      "Layer: hidden1 | Type: hidden | Output shape: 2\n",
      "Weights:\n",
      " [[0.35 0.35]\n",
      " [0.15 0.25]\n",
      " [0.2  0.3 ]]\n",
      "_____________________________________\n",
      "Layer: hidden2 | Type: output | Output shape: 3\n",
      "Weights:\n",
      " [[0.6  0.6  0.5 ]\n",
      " [0.4  0.5  0.4 ]\n",
      " [0.45 0.55 0.2 ]]\n",
      "=====================================\n"
     ]
    }
   ],
   "source": [
    "model.summary()"
   ]
  },
  {
   "cell_type": "code",
   "execution_count": 9,
   "metadata": {},
   "outputs": [
    {
     "data": {
      "text/plain": [
       "array([[0.34413991, 0.38763482, 0.26822527],\n",
       "       [0.34416353, 0.38914556, 0.2666909 ]])"
      ]
     },
     "execution_count": 9,
     "metadata": {},
     "output_type": "execute_result"
    }
   ],
   "source": [
    "model.predict(X)"
   ]
  },
  {
   "cell_type": "code",
   "execution_count": 10,
   "metadata": {},
   "outputs": [],
   "source": [
    "model.test_backward()"
   ]
  },
  {
   "cell_type": "code",
   "execution_count": 11,
   "metadata": {},
   "outputs": [
    {
     "data": {
      "text/plain": [
       "'\\ncoba testcase dari asisten buat sigmoid\\n{\\n    \"case\": {\\n        \"model\": {\\n            \"input_size\": 2,\\n            \"layers\": [\\n                {\\n                    \"number_of_neurons\": 2,\\n                    \"activation_function\": \"sigmoid\"\\n                }\\n            ]\\n        },\\n        \"input\": [\\n            [0.5, 0.0],\\n            [0.0, 0.5]\\n        ],\\n        \"initial_weights\": [\\n            [\\n              [0.3, 0.1], \\n\\t\\t  [0.2, 0.6],\\n\\t\\t  [0.8, 0.3]\\n            ]\\n        ],\\n        \"target\": [\\n            [0.0, 1.0],\\n            [1.0, 0.0]\\n        ],\\n        \"learning_parameters\": {\\n            \"learning_rate\": 0.1,\\n            \"batch_size\": 2,\\n            \"max_iteration\": 10,\\n            \"error_threshold\": 0.01\\n        }\\n    },\\n    \"expect\": {\\n        \"stopped_by\": \"max_iteration\",\\n\\t  \"final_weights\":[\\n\\t\\t [\\n\\t\\t\\t[0.2329, 0.0601],\\n\\t\\t\\t[0.1288, 0.6484],\\n\\t\\t\\t[0.8376, 0.2315]\\n\\t\\t ]\\n\\t  ]\\n    }\\n}\\n'"
      ]
     },
     "execution_count": 11,
     "metadata": {},
     "output_type": "execute_result"
    }
   ],
   "source": [
    "\"\"\"\n",
    "coba testcase dari asisten buat sigmoid\n",
    "{\n",
    "    \"case\": {\n",
    "        \"model\": {\n",
    "            \"input_size\": 2,\n",
    "            \"layers\": [\n",
    "                {\n",
    "                    \"number_of_neurons\": 2,\n",
    "                    \"activation_function\": \"sigmoid\"\n",
    "                }\n",
    "            ]\n",
    "        },\n",
    "        \"input\": [\n",
    "            [0.5, 0.0],\n",
    "            [0.0, 0.5]\n",
    "        ],\n",
    "        \"initial_weights\": [\n",
    "            [\n",
    "              [0.3, 0.1], \n",
    "\t\t  [0.2, 0.6],\n",
    "\t\t  [0.8, 0.3]\n",
    "            ]\n",
    "        ],\n",
    "        \"target\": [\n",
    "            [0.0, 1.0],\n",
    "            [1.0, 0.0]\n",
    "        ],\n",
    "        \"learning_parameters\": {\n",
    "            \"learning_rate\": 0.1,\n",
    "            \"batch_size\": 2,\n",
    "            \"max_iteration\": 10,\n",
    "            \"error_threshold\": 0.01\n",
    "        }\n",
    "    },\n",
    "    \"expect\": {\n",
    "        \"stopped_by\": \"max_iteration\",\n",
    "\t  \"final_weights\":[\n",
    "\t\t [\n",
    "\t\t\t[0.2329, 0.0601],\n",
    "\t\t\t[0.1288, 0.6484],\n",
    "\t\t\t[0.8376, 0.2315]\n",
    "\t\t ]\n",
    "\t  ]\n",
    "    }\n",
    "}\n",
    "\"\"\""
   ]
  },
  {
   "cell_type": "code",
   "execution_count": 12,
   "metadata": {},
   "outputs": [],
   "source": [
    "W = np.array([\n",
    "              [0.3, 0.1], \n",
    "\t\t    [0.2, 0.6],\n",
    "\t\t    [0.8, 0.3]\n",
    "            ])"
   ]
  },
  {
   "cell_type": "code",
   "execution_count": 13,
   "metadata": {},
   "outputs": [],
   "source": [
    "X = np.array([\n",
    "            [0.5, 0.0],\n",
    "            [0.0, 0.5]\n",
    "            ])\n",
    "Y = np.array([\n",
    "            [0.0, 1.0],\n",
    "            [1.0, 0.0]\n",
    "            ])\n"
   ]
  },
  {
   "cell_type": "code",
   "execution_count": 14,
   "metadata": {},
   "outputs": [
    {
     "name": "stdout",
     "output_type": "stream",
     "text": [
      "Summary for Model: ajg\n",
      "=====================================\n",
      "Layer: output1 | Type: output | Output shape: 2\n",
      "Weights:\n",
      " [[0.3 0.1]\n",
      " [0.2 0.6]\n",
      " [0.8 0.3]]\n",
      "=====================================\n"
     ]
    }
   ],
   "source": [
    "model2 = Model(\"ajg\",ANN(2,2,learning_rate=0.1))\n",
    "model2.add(OutputLayer(\"output1\",2,2,W,\"sigmoid\",Y))\n",
    "model2.summary()"
   ]
  },
  {
   "cell_type": "code",
   "execution_count": 15,
   "metadata": {},
   "outputs": [
    {
     "name": "stdout",
     "output_type": "stream",
     "text": [
      "Epoch 1 completed\n",
      "Loss: 0.4728101406019331\n",
      "Epoch 2 completed\n",
      "Loss: 0.47078073489758887\n",
      "Epoch 3 completed\n",
      "Loss: 0.46876757811986325\n",
      "Epoch 4 completed\n",
      "Loss: 0.4667706588834645\n",
      "Epoch 5 completed\n",
      "Loss: 0.4647899555600068\n",
      "Epoch 6 completed\n",
      "Loss: 0.4628254366344452\n",
      "Epoch 7 completed\n",
      "Loss: 0.46087706106867526\n",
      "Epoch 8 completed\n",
      "Loss: 0.45894477867098016\n",
      "Epoch 9 completed\n",
      "Loss: 0.4570285304700267\n",
      "Epoch 10 completed\n",
      "Loss: 0.4551282490921642\n"
     ]
    }
   ],
   "source": [
    "model2.fit(X,Y,10,0.1,batch_size=2,error_threshold=0.01)"
   ]
  },
  {
   "cell_type": "code",
   "execution_count": 16,
   "metadata": {},
   "outputs": [
    {
     "name": "stdout",
     "output_type": "stream",
     "text": [
      "Summary for Model: ajg\n",
      "=====================================\n",
      "Layer: output1 | Type: output | Output shape: 2\n",
      "Weights:\n",
      " [[0.23291176 0.06015346]\n",
      " [0.12884088 0.64849474]\n",
      " [0.837615   0.23158199]]\n",
      "=====================================\n"
     ]
    }
   ],
   "source": [
    "model2.summary()"
   ]
  },
  {
   "cell_type": "markdown",
   "metadata": {},
   "source": [
    "# Hasilnya sama gan"
   ]
  },
  {
   "cell_type": "code",
   "execution_count": 17,
   "metadata": {},
   "outputs": [
    {
     "data": {
      "text/plain": [
       "'\\nCoba Softmax\\n{\\n    \"case\": {\\n        \"model\": {\\n            \"input_size\": 8,\\n            \"layers\": [\\n                {\\n                    \"number_of_neurons\": 3,\\n                    \"activation_function\": \"softmax\"\\n                }\\n            ]\\n        },\\n        \"input\": [\\n            [-2.4, -2.78, -0.6, 0.37, 2.46, -0.92, 2.76, 2.62],\\n            [-1.79, 1.65, -0.77, -1.03, 0.1, 2.12, -2.36, 1.25],\\n            [1.65, 2.34, 0.27, 2.34, 0.52, 1.37, 1.77, 0.62]\\n        ],\\n        \"initial_weights\": [\\n            [\\n                [0.1, 0.9, -0.1],\\n                [-0.2, 0.8, 0.2],\\n                [0.3, -0.7, 0.3],\\n                [0.4, 0.6, -0.4],\\n                [0.5, 0.5, 0.5],\\n                [-0.6, 0.4, 0.6],\\n                [-0.7, -0.3, 0.7],\\n                [0.8, 0.2, -0.8],\\n                [0.9, -0.1, 0.0]\\n            ]\\n        ],\\n        \"target\": [\\n            [0, 1, 0],\\n            [1, 0, 0],\\n            [0, 0, 1]\\n        ],\\n        \"learning_parameters\": {\\n            \"learning_rate\": 0.01,\\n            \"batch_size\": 1,\\n            \"max_iteration\": 10,\\n            \"error_threshold\": 0.05\\n        }\\n    },\\n    \"expect\": {\\n        \"stopped_by\": \"max_iteration\",\\n        \"final_weights\": [\\n            [\\n                [ 0.12674605,  0.9149538,  -0.14169985],\\n                [-0.33551647,  0.67700488,  0.45851159],\\n                [ 0.48314436, -0.85241216,  0.2692678 ],\\n                [ 0.3400255,   0.57237542, -0.31240092],\\n                [ 0.31397716,  0.46349737,  0.72252547],\\n                [-0.69652442,  0.4789189,   0.61760552],\\n                [-0.50884515, -0.36354141,  0.57238656],\\n                [ 0.41891295,  0.26354517, -0.48245812],\\n                [ 0.90374164, -0.01759501, -0.08614663]\\n            ]\\n        ]\\n    }\\n}\\n'"
      ]
     },
     "execution_count": 17,
     "metadata": {},
     "output_type": "execute_result"
    }
   ],
   "source": [
    "\"\"\"\n",
    "Coba Softmax\n",
    "{\n",
    "    \"case\": {\n",
    "        \"model\": {\n",
    "            \"input_size\": 8,\n",
    "            \"layers\": [\n",
    "                {\n",
    "                    \"number_of_neurons\": 3,\n",
    "                    \"activation_function\": \"softmax\"\n",
    "                }\n",
    "            ]\n",
    "        },\n",
    "        \"input\": [\n",
    "            [-2.4, -2.78, -0.6, 0.37, 2.46, -0.92, 2.76, 2.62],\n",
    "            [-1.79, 1.65, -0.77, -1.03, 0.1, 2.12, -2.36, 1.25],\n",
    "            [1.65, 2.34, 0.27, 2.34, 0.52, 1.37, 1.77, 0.62]\n",
    "        ],\n",
    "        \"initial_weights\": [\n",
    "            [\n",
    "                [0.1, 0.9, -0.1],\n",
    "                [-0.2, 0.8, 0.2],\n",
    "                [0.3, -0.7, 0.3],\n",
    "                [0.4, 0.6, -0.4],\n",
    "                [0.5, 0.5, 0.5],\n",
    "                [-0.6, 0.4, 0.6],\n",
    "                [-0.7, -0.3, 0.7],\n",
    "                [0.8, 0.2, -0.8],\n",
    "                [0.9, -0.1, 0.0]\n",
    "            ]\n",
    "        ],\n",
    "        \"target\": [\n",
    "            [0, 1, 0],\n",
    "            [1, 0, 0],\n",
    "            [0, 0, 1]\n",
    "        ],\n",
    "        \"learning_parameters\": {\n",
    "            \"learning_rate\": 0.01,\n",
    "            \"batch_size\": 1,\n",
    "            \"max_iteration\": 10,\n",
    "            \"error_threshold\": 0.05\n",
    "        }\n",
    "    },\n",
    "    \"expect\": {\n",
    "        \"stopped_by\": \"max_iteration\",\n",
    "        \"final_weights\": [\n",
    "            [\n",
    "                [ 0.12674605,  0.9149538,  -0.14169985],\n",
    "                [-0.33551647,  0.67700488,  0.45851159],\n",
    "                [ 0.48314436, -0.85241216,  0.2692678 ],\n",
    "                [ 0.3400255,   0.57237542, -0.31240092],\n",
    "                [ 0.31397716,  0.46349737,  0.72252547],\n",
    "                [-0.69652442,  0.4789189,   0.61760552],\n",
    "                [-0.50884515, -0.36354141,  0.57238656],\n",
    "                [ 0.41891295,  0.26354517, -0.48245812],\n",
    "                [ 0.90374164, -0.01759501, -0.08614663]\n",
    "            ]\n",
    "        ]\n",
    "    }\n",
    "}\n",
    "\"\"\""
   ]
  },
  {
   "cell_type": "code",
   "execution_count": 18,
   "metadata": {},
   "outputs": [],
   "source": [
    "X = np.array([\n",
    "            [-2.4, -2.78, -0.6, 0.37, 2.46, -0.92, 2.76, 2.62],\n",
    "            [-1.79, 1.65, -0.77, -1.03, 0.1, 2.12, -2.36, 1.25],\n",
    "            [1.65, 2.34, 0.27, 2.34, 0.52, 1.37, 1.77, 0.62]\n",
    "        ])\n",
    "Y = np.array([\n",
    "            [0, 1, 0],\n",
    "            [1, 0, 0],\n",
    "            [0, 0, 1]\n",
    "        ])"
   ]
  },
  {
   "cell_type": "code",
   "execution_count": 19,
   "metadata": {},
   "outputs": [],
   "source": [
    "model3 = Model(\"ajg\",ANN(8,3,learning_rate=0.01))\n",
    "W = np.array([\n",
    "                [0.1, 0.9, -0.1],\n",
    "                [-0.2, 0.8, 0.2],\n",
    "                [0.3, -0.7, 0.3],\n",
    "                [0.4, 0.6, -0.4],\n",
    "                [0.5, 0.5, 0.5],\n",
    "                [-0.6, 0.4, 0.6],\n",
    "                [-0.7, -0.3, 0.7],\n",
    "                [0.8, 0.2, -0.8],\n",
    "                [0.9, -0.1, 0.0]\n",
    "            ])\n",
    "model3.add(OutputLayer(\"output1\",8,3,W,\"softmax\",Y))"
   ]
  },
  {
   "cell_type": "code",
   "execution_count": 20,
   "metadata": {},
   "outputs": [
    {
     "name": "stdout",
     "output_type": "stream",
     "text": [
      "Epoch 1 completed\n",
      "Loss: 0.7764326720561621\n",
      "Epoch 2 completed\n",
      "Loss: 0.8524736931926974\n",
      "Epoch 3 completed\n",
      "Loss: 0.9368612303795204\n",
      "Epoch 4 completed\n",
      "Loss: 0.9036143843158427\n",
      "Epoch 5 completed\n",
      "Loss: 0.7888414455351627\n",
      "Epoch 6 completed\n",
      "Loss: 0.691786872890397\n",
      "Epoch 7 completed\n",
      "Loss: 0.6100235912667268\n",
      "Epoch 8 completed\n",
      "Loss: 0.5412097014358183\n",
      "Epoch 9 completed\n",
      "Loss: 0.48323045526251013\n",
      "Epoch 10 completed\n",
      "Loss: 0.434255001220771\n"
     ]
    }
   ],
   "source": [
    "model3.fit(X,Y,10,0.01,batch_size=1,error_threshold=0.05)"
   ]
  },
  {
   "cell_type": "code",
   "execution_count": 21,
   "metadata": {},
   "outputs": [
    {
     "name": "stdout",
     "output_type": "stream",
     "text": [
      "Summary for Model: ajg\n",
      "=====================================\n",
      "Layer: output1 | Type: output | Output shape: 3\n",
      "Weights:\n",
      " [[ 0.12674605  0.9149538  -0.14169985]\n",
      " [-0.33551647  0.67700488  0.45851159]\n",
      " [ 0.48314436 -0.85241216  0.2692678 ]\n",
      " [ 0.3400255   0.57237542 -0.31240092]\n",
      " [ 0.31397716  0.46349737  0.72252547]\n",
      " [-0.69652442  0.4789189   0.61760552]\n",
      " [-0.50884515 -0.36354141  0.57238656]\n",
      " [ 0.41891295  0.26354517 -0.48245812]\n",
      " [ 0.90374164 -0.01759501 -0.08614663]]\n",
      "=====================================\n"
     ]
    }
   ],
   "source": [
    "model3.summary()"
   ]
  },
  {
   "cell_type": "code",
   "execution_count": 22,
   "metadata": {},
   "outputs": [
    {
     "data": {
      "text/plain": [
       "'\\n{\\n    \"case\": {\\n        \"model\": {\\n            \"input_size\": 2,\\n            \"layers\": [\\n                {\\n                    \"number_of_neurons\": 3,\\n                    \"activation_function\": \"linear\"\\n                }\\n            ]\\n        },\\n        \"input\": [\\n            [3.0, 1.0],\\n            [1.0, 2.0]\\n        ],\\n        \"initial_weights\": [\\n            [\\n              [0.1, 0.3, 0.2],\\n              [0.4, 0.2, -0.7],\\n              [0.1, -0.8, 0.5]\\n            ]\\n        ],\\n        \"target\": [\\n            [ 2.0,  0.3, -1.9],\\n            [ 1.3, -0.7,  0.1]\\n        ],\\n        \"learning_parameters\": {\\n            \"learning_rate\": 0.1,\\n            \"batch_size\": 2,\\n            \"max_iteration\": 2,\\n            \"error_threshold\": 0.0\\n        }\\n    },\\n    \"expect\": {\\n        \"stopped_by\": \"max_iteration\",\\n        \"final_weights\": [\\n            [\\n              [ 0.166,  0.338, 0.153],\\n              [ 0.502,  0.226, -0.789],\\n              [ 0.214, -0.718,  0.427]\\n            ]\\n        ]\\n    }\\n}\\n'"
      ]
     },
     "execution_count": 22,
     "metadata": {},
     "output_type": "execute_result"
    }
   ],
   "source": [
    "\"\"\"\n",
    "{\n",
    "    \"case\": {\n",
    "        \"model\": {\n",
    "            \"input_size\": 2,\n",
    "            \"layers\": [\n",
    "                {\n",
    "                    \"number_of_neurons\": 3,\n",
    "                    \"activation_function\": \"linear\"\n",
    "                }\n",
    "            ]\n",
    "        },\n",
    "        \"input\": [\n",
    "            [3.0, 1.0],\n",
    "            [1.0, 2.0]\n",
    "        ],\n",
    "        \"initial_weights\": [\n",
    "            [\n",
    "              [0.1, 0.3, 0.2],\n",
    "              [0.4, 0.2, -0.7],\n",
    "              [0.1, -0.8, 0.5]\n",
    "            ]\n",
    "        ],\n",
    "        \"target\": [\n",
    "            [ 2.0,  0.3, -1.9],\n",
    "            [ 1.3, -0.7,  0.1]\n",
    "        ],\n",
    "        \"learning_parameters\": {\n",
    "            \"learning_rate\": 0.1,\n",
    "            \"batch_size\": 2,\n",
    "            \"max_iteration\": 2,\n",
    "            \"error_threshold\": 0.0\n",
    "        }\n",
    "    },\n",
    "    \"expect\": {\n",
    "        \"stopped_by\": \"max_iteration\",\n",
    "        \"final_weights\": [\n",
    "            [\n",
    "              [ 0.166,  0.338, 0.153],\n",
    "              [ 0.502,  0.226, -0.789],\n",
    "              [ 0.214, -0.718,  0.427]\n",
    "            ]\n",
    "        ]\n",
    "    }\n",
    "}\n",
    "\"\"\""
   ]
  },
  {
   "cell_type": "code",
   "execution_count": 23,
   "metadata": {},
   "outputs": [],
   "source": [
    "model4 = Model(\"ajg\",ANN(2,3,learning_rate=0.1))\n",
    "W = np.array([\n",
    "              [0.1, 0.3, 0.2],\n",
    "              [0.4, 0.2, -0.7],\n",
    "              [0.1, -0.8, 0.5]\n",
    "            ])\n",
    "X = np.array([\n",
    "            [3.0, 1.0],\n",
    "            [1.0, 2.0]\n",
    "            ])\n",
    "Y = np.array([\n",
    "            [ 2.0,  0.3, -1.9],\n",
    "            [ 1.3, -0.7,  0.1]\n",
    "            ])\n",
    "\n",
    "model4.add(OutputLayer(\"output1\",2,3,W,\"linear\",Y))"
   ]
  },
  {
   "cell_type": "code",
   "execution_count": 24,
   "metadata": {},
   "outputs": [
    {
     "name": "stdout",
     "output_type": "stream",
     "text": [
      "Epoch 1 completed\n",
      "Loss: 0.665\n",
      "Epoch 2 completed\n",
      "Loss: 0.1818499999999999\n"
     ]
    }
   ],
   "source": [
    "model4.fit(X,Y,2,0.1,batch_size=2,error_threshold=0.0)"
   ]
  },
  {
   "cell_type": "code",
   "execution_count": 25,
   "metadata": {},
   "outputs": [
    {
     "name": "stdout",
     "output_type": "stream",
     "text": [
      "Summary for Model: ajg\n",
      "=====================================\n",
      "Layer: output1 | Type: output | Output shape: 3\n",
      "Weights:\n",
      " [[ 0.166  0.338  0.153]\n",
      " [ 0.502  0.226 -0.789]\n",
      " [ 0.214 -0.718  0.427]]\n",
      "=====================================\n"
     ]
    }
   ],
   "source": [
    "model4.summary()"
   ]
  },
  {
   "cell_type": "code",
   "execution_count": 26,
   "metadata": {},
   "outputs": [],
   "source": [
    "x = np.array([1,2,2,1,3])\n",
    "#sort descending\n",
    "x.sort()"
   ]
  },
  {
   "cell_type": "code",
   "execution_count": 27,
   "metadata": {},
   "outputs": [
    {
     "name": "stdout",
     "output_type": "stream",
     "text": [
      "[1 1 2 2 3]\n"
     ]
    }
   ],
   "source": [
    "print(x)"
   ]
  },
  {
   "cell_type": "code",
   "execution_count": 32,
   "metadata": {},
   "outputs": [
    {
     "name": "stdout",
     "output_type": "stream",
     "text": [
      "\n",
      "\n",
      "\n"
     ]
    }
   ],
   "source": [
    "parser = BackPropParser(\"../test_case/B/softmax_two_layer.json\")"
   ]
  },
  {
   "cell_type": "code",
   "execution_count": 33,
   "metadata": {},
   "outputs": [],
   "source": [
    "the_model = parser.build_model()"
   ]
  },
  {
   "cell_type": "code",
   "execution_count": 34,
   "metadata": {},
   "outputs": [
    {
     "name": "stdout",
     "output_type": "stream",
     "text": [
      "Summary for Model: the_model\n",
      "=====================================\n",
      "Layer: hidden1 | Type: hidden | Output shape: 4\n",
      "Weights:\n",
      " [[ 0.1 -0.1  0.1 -0.1]\n",
      " [-0.1  0.1 -0.1  0.1]\n",
      " [ 0.1  0.1 -0.1 -0.1]]\n",
      "_____________________________________\n",
      "Layer: output1 | Type: output | Output shape: 2\n",
      "Weights:\n",
      " [[ 0.12 -0.1 ]\n",
      " [-0.12  0.1 ]\n",
      " [ 0.12 -0.1 ]\n",
      " [-0.12  0.1 ]\n",
      " [ 0.02  0.  ]]\n",
      "=====================================\n"
     ]
    }
   ],
   "source": [
    "the_model.summary()"
   ]
  }
 ],
 "metadata": {
  "kernelspec": {
   "display_name": "Python 3",
   "language": "python",
   "name": "python3"
  },
  "language_info": {
   "codemirror_mode": {
    "name": "ipython",
    "version": 3
   },
   "file_extension": ".py",
   "mimetype": "text/x-python",
   "name": "python",
   "nbconvert_exporter": "python",
   "pygments_lexer": "ipython3",
   "version": "3.10.11"
  }
 },
 "nbformat": 4,
 "nbformat_minor": 2
}
